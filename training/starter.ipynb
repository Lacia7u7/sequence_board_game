{
 "cells": [
  {
   "metadata": {},
   "cell_type": "markdown",
   "source": [
    "# Starter: Sequence RL — debug-friendly notebook (Anaconda base)\n",
    "\n",
    "Run the cells **in order** (1 → 10).\n",
    "This notebook:\n",
    "- uses your Anaconda base env (no venv),\n",
    "- verifies CUDA,\n",
    "- wires `sys.path` so `training/` imports,\n",
    "- runs the trainer **in-process** (easy to debug) or via subprocess,\n",
    "- starts TensorBoard,\n",
    "- evaluates a saved policy,\n",
    "- and gives quick unit-test & step-debug helpers.\n"
   ],
   "id": "c496235011770648"
  },
  {
   "metadata": {
    "ExecuteTime": {
     "end_time": "2025-08-25T18:37:23.667675Z",
     "start_time": "2025-08-25T18:37:19.745599Z"
    }
   },
   "cell_type": "code",
   "source": [
    "import os, sys, subprocess, textwrap\n",
    "\n",
    "print(\"Python:\", sys.executable)\n",
    "try:\n",
    "    import torch\n",
    "    print(\"PyTorch:\", torch.__version__)\n",
    "    print(\"CUDA available:\", torch.cuda.is_available())\n",
    "    print(\"CUDA version:\", getattr(torch.version, \"cuda\", None))\n",
    "    if torch.cuda.is_available():\n",
    "        print(\"CUDA device count:\", torch.cuda.device_count())\n",
    "        print(\"Device 0:\", torch.cuda.get_device_name(0))\n",
    "except Exception as e:\n",
    "    print(\"Torch import error:\", e)\n",
    "\n",
    "# Optional: show nvidia-smi (won't crash if missing)\n",
    "try:\n",
    "    print(\"\\n--- nvidia-smi ---\")\n",
    "    out = subprocess.run([\"nvidia-smi\"], capture_output=True, text=True)\n",
    "    print(out.stdout or out.stderr)\n",
    "except Exception as e:\n",
    "    print(\"nvidia-smi not available:\", e)\n"
   ],
   "id": "a41da3316c0ab59a",
   "outputs": [
    {
     "name": "stdout",
     "output_type": "stream",
     "text": [
      "Python: C:\\Users\\carlo\\anaconda3\\python.exe\n",
      "PyTorch: 2.2.1\n",
      "CUDA available: True\n",
      "CUDA version: 12.1\n",
      "CUDA device count: 1\n",
      "Device 0: NVIDIA GeForce RTX 3050 Laptop GPU\n",
      "\n",
      "--- nvidia-smi ---\n",
      "Mon Aug 25 12:37:23 2025       \n",
      "+-----------------------------------------------------------------------------------------+\n",
      "| NVIDIA-SMI 551.61                 Driver Version: 551.61         CUDA Version: 12.4     |\n",
      "|-----------------------------------------+------------------------+----------------------+\n",
      "| GPU  Name                     TCC/WDDM  | Bus-Id          Disp.A | Volatile Uncorr. ECC |\n",
      "| Fan  Temp   Perf          Pwr:Usage/Cap |           Memory-Usage | GPU-Util  Compute M. |\n",
      "|                                         |                        |               MIG M. |\n",
      "|=========================================+========================+======================|\n",
      "|   0  NVIDIA GeForce RTX 3050 ...  WDDM  |   00000000:01:00.0 Off |                  N/A |\n",
      "| N/A   58C    P8              4W /   25W |     273MiB /   4096MiB |      0%      Default |\n",
      "|                                         |                        |                  N/A |\n",
      "+-----------------------------------------+------------------------+----------------------+\n",
      "                                                                                         \n",
      "+-----------------------------------------------------------------------------------------+\n",
      "| Processes:                                                                              |\n",
      "|  GPU   GI   CI        PID   Type   Process name                              GPU Memory |\n",
      "|        ID   ID                                                               Usage      |\n",
      "|=========================================================================================|\n",
      "|    0   N/A  N/A      2716    C+G   ...ZWMJ2QHF7EXQJXRPE6GR5GOTQ\\DeepL.exe      N/A      |\n",
      "|    0   N/A  N/A      3144    C+G   ...m 2025.2.0.1\\jbr\\bin\\cef_server.exe      N/A      |\n",
      "|    0   N/A  N/A      3344    C+G   ...3.0_x64__cv1g1gvanyjgm\\WhatsApp.exe      N/A      |\n",
      "|    0   N/A  N/A      4580    C+G   ...by Google One\\1.9.0.6\\googleone.exe      N/A      |\n",
      "|    0   N/A  N/A      6820    C+G   ...n\\139.0.3405.111\\msedgewebview2.exe      N/A      |\n",
      "|    0   N/A  N/A     11476    C+G   ...les\\Microsoft OneDrive\\OneDrive.exe      N/A      |\n",
      "|    0   N/A  N/A     12928    C+G   C:\\Windows\\System32\\ShellHost.exe           N/A      |\n",
      "|    0   N/A  N/A     13228    C+G   ...cw5n1h2txyewy\\CrossDeviceResume.exe      N/A      |\n",
      "|    0   N/A  N/A     13400    C+G   ...nt.CBS_cw5n1h2txyewy\\SearchHost.exe      N/A      |\n",
      "|    0   N/A  N/A     14324    C+G   ...2txyewy\\StartMenuExperienceHost.exe      N/A      |\n",
      "|    0   N/A  N/A     15844    C+G   ...n\\139.0.3405.111\\msedgewebview2.exe      N/A      |\n",
      "|    0   N/A  N/A     20392    C+G   ...CBS_cw5n1h2txyewy\\TextInputHost.exe      N/A      |\n",
      "|    0   N/A  N/A     21512    C+G   ...ekyb3d8bbwe\\PhoneExperienceHost.exe      N/A      |\n",
      "|    0   N/A  N/A     23980    C+G   ...n\\139.0.3405.111\\msedgewebview2.exe      N/A      |\n",
      "+-----------------------------------------------------------------------------------------+\n",
      "\n"
     ]
    }
   ],
   "execution_count": 1
  },
  {
   "metadata": {
    "ExecuteTime": {
     "end_time": "2025-08-25T20:32:29.540033Z",
     "start_time": "2025-08-25T20:23:52.444874Z"
    }
   },
   "cell_type": "code",
   "source": [
    "# ✅ Run training.scripts.train in-process with a merged temp config (overrides applied reliably)\n",
    "\n",
    "import os, sys, runpy, importlib, contextlib, io, json, time, tempfile, shutil\n",
    "\n",
    "# --- configure your base config and overrides (dot-paths supported) ---\n",
    "CFG_PATH = r\"E:\\sequence_game_board\\sequence_board_game\\training\\configs\\full-tiny-smoke.json\"\n",
    "OVERRIDE = {\n",
    "    \"training.num_envs\": 1,\n",
    "    \"training.rollout_length\": 32,\n",
    "    \"training.total_updates\": 100,\n",
    "    \"training.minibatch_size\": 512,\n",
    "    \"logging.tensorboard\": True,\n",
    "}\n",
    "\n",
    "# --- helpers: load cfg, apply dot-path overrides, write temp cfg ---\n",
    "def load_json(path):\n",
    "    with open(path, \"r\", encoding=\"utf-8\") as f:\n",
    "        return json.load(f)\n",
    "\n",
    "def apply_overrides(cfg: dict, overrides: dict) -> dict:\n",
    "    out = json.loads(json.dumps(cfg))  # deep copy\n",
    "    for k, v in overrides.items():\n",
    "        cur = out\n",
    "        parts = k.split(\".\")\n",
    "        for p in parts[:-1]:\n",
    "            if p not in cur or not isinstance(cur[p], dict):\n",
    "                cur[p] = {}\n",
    "            cur = cur[p]\n",
    "        cur[parts[-1]] = v\n",
    "    return out\n",
    "\n",
    "# --- compute repo root (parent of 'training' folder) and ensure import path ---\n",
    "# CFG_PATH .../training/configs/xxx.json  -> go up two levels to repo root\n",
    "project_root = os.path.abspath(os.path.join(os.path.dirname(CFG_PATH), os.pardir, os.pardir))\n",
    "print(\"Project root:\", project_root)\n",
    "if project_root not in sys.path:\n",
    "    sys.path.insert(0, project_root)\n",
    "\n",
    "# --- purge any cached 'training' modules so edits are picked up ---\n",
    "to_purge = [m for m in list(sys.modules) if m == \"training\" or m.startswith(\"training.\")]\n",
    "for m in to_purge:\n",
    "    sys.modules.pop(m, None)\n",
    "importlib.invalidate_caches()\n",
    "\n",
    "# --- build merged temp config ---\n",
    "base_cfg = load_json(CFG_PATH)\n",
    "merged_cfg = apply_overrides(base_cfg, OVERRIDE)\n",
    "\n",
    "# write next to original (in configs/) with a timestamped name\n",
    "cfg_dir = os.path.dirname(CFG_PATH)\n",
    "runtime_cfg_path = os.path.join(cfg_dir, f\"_runtime_{int(time.time())}.json\")\n",
    "with open(runtime_cfg_path, \"w\", encoding=\"utf-8\") as f:\n",
    "    json.dump(merged_cfg, f, indent=2)\n",
    "print(\"Merged config written to:\", runtime_cfg_path)\n",
    "\n",
    "# --- optional: quick sanity peek ---\n",
    "print(\"total_updates =\", merged_cfg.get(\"training\", {}).get(\"total_updates\"))\n",
    "\n",
    "# --- import a couple of modules to confirm we’re loading the local package ---\n",
    "try:\n",
    "    import training\n",
    "    import training.engine.state as st\n",
    "    print(\"training package file:\", getattr(training, \"__file__\", \"<module>\"))\n",
    "    print(\"state.py path        :\", getattr(st, \"__file__\", \"<module>\"))\n",
    "except Exception as e:\n",
    "    print(\"WARNING: could not import training package before run:\", e)\n",
    "\n",
    "# --- run the train module in-process with the merged config (no --override) ---\n",
    "argv = [\n",
    "    \"training.scripts.train\",\n",
    "    \"--config\", runtime_cfg_path,\n",
    "]\n",
    "\n",
    "stdout_buf, stderr_buf = io.StringIO(), io.StringIO()\n",
    "print(\"Running in-process with argv:\", argv)\n",
    "\n",
    "with contextlib.redirect_stdout(stdout_buf), contextlib.redirect_stderr(stderr_buf):\n",
    "    old_argv = sys.argv\n",
    "    try:\n",
    "        sys.argv = argv\n",
    "        runpy.run_module(\"training.scripts.train\", run_name=\"__main__\", alter_sys=True)\n",
    "        exit_code = 0\n",
    "    except SystemExit as se:\n",
    "        exit_code = int(getattr(se, \"code\", 0) or 0)\n",
    "    except Exception as e:\n",
    "        exit_code = 1\n",
    "        # print the exception into the captured stderr so it shows below\n",
    "        import traceback; traceback.print_exc()\n",
    "    finally:\n",
    "        sys.argv = old_argv\n",
    "\n",
    "out, err = stdout_buf.getvalue(), stderr_buf.getvalue()\n",
    "print(\"--- STDOUT (tail) ---\\n\", out[-8000:])\n",
    "print(\"--- STDERR (tail) ---\\n\", err[-8000:])\n",
    "print(\"Exit code:\", exit_code)\n",
    "\n",
    "# (Optional) clean up the temp config file\n",
    "# If you’d like to keep it for reproducibility, comment this out.\n",
    "try:\n",
    "    os.remove(runtime_cfg_path)\n",
    "except Exception:\n",
    "    pass\n"
   ],
   "id": "8228756e6c62d23b",
   "outputs": [
    {
     "name": "stdout",
     "output_type": "stream",
     "text": [
      "Project root: E:\\sequence_game_board\\sequence_board_game\n",
      "Merged config written to: E:\\sequence_game_board\\sequence_board_game\\training\\configs\\_runtime_1756153432.json\n",
      "total_updates = 100\n",
      "training package file: E:\\sequence_game_board\\sequence_board_game\\training\\__init__.py\n",
      "state.py path        : E:\\sequence_game_board\\sequence_board_game\\training\\engine\\state.py\n",
      "Running in-process with argv: ['training.scripts.train', '--config', 'E:\\\\sequence_game_board\\\\sequence_board_game\\\\training\\\\configs\\\\_runtime_1756153432.json']\n",
      "Unexpected exception formatting exception. Falling back to standard exception\n"
     ]
    },
    {
     "name": "stderr",
     "output_type": "stream",
     "text": [
      "Traceback (most recent call last):\n",
      "  File \"C:\\Users\\carlo\\anaconda3\\Lib\\site-packages\\IPython\\core\\interactiveshell.py\", line 3553, in run_code\n",
      "    exec(code_obj, self.user_global_ns, self.user_ns)\n",
      "  File \"C:\\Users\\carlo\\AppData\\Local\\Temp\\ipykernel_32408\\3455294283.py\", line 81, in <module>\n",
      "    runpy.run_module(\"training.scripts.train\", run_name=\"__main__\", alter_sys=True)\n",
      "  File \"<frozen runpy>\", line 226, in run_module\n",
      "  File \"<frozen runpy>\", line 98, in _run_module_code\n",
      "  File \"<frozen runpy>\", line 88, in _run_code\n",
      "  File \"E:\\sequence_game_board\\sequence_board_game\\training\\scripts\\train.py\", line 238, in <module>\n",
      "    main()\n",
      "  File \"E:\\sequence_game_board\\sequence_board_game\\training\\scripts\\train.py\", line 149, in main\n",
      "    next_obs_np, reward, terminated, truncated, info = env.step(action)\n",
      "                                                       ^^^^^^^^^^^^^^^^\n",
      "  File \"E:\\sequence_game_board\\sequence_board_game\\training\\envs\\sequence_env.py\", line 175, in step\n",
      "    obs = encode_board_state(\n",
      "          ^^^^^^^^^^^^^^^^^^^\n",
      "  File \"E:\\sequence_game_board\\sequence_board_game\\training\\encoders\\board_encoder.py\", line 161, in encode_board_state\n",
      "    obs = np.stack(channels, axis=0).astype(np.float32)  # (C,10,10)\n",
      "          ^^^^^^^^^^^^^^^^^^^^^^^^^^\n",
      "  File \"C:\\Users\\carlo\\anaconda3\\Lib\\site-packages\\numpy\\core\\shape_base.py\", line 456, in stack\n",
      "    return _nx.concatenate(expanded_arrays, axis=axis, out=out,\n",
      "           ^^^^^^^^^^^^^^^^^^^^^^^^^^^^^^^^^^^^^^^^^^^^^^^^^^^^\n",
      "KeyboardInterrupt\n",
      "\n",
      "During handling of the above exception, another exception occurred:\n",
      "\n",
      "Traceback (most recent call last):\n",
      "  File \"C:\\Users\\carlo\\anaconda3\\Lib\\site-packages\\IPython\\core\\interactiveshell.py\", line 2144, in showtraceback\n",
      "    stb = self.InteractiveTB.structured_traceback(\n",
      "          ^^^^^^^^^^^^^^^^^^^^^^^^^^^^^^^^^^^^^^^^\n",
      "  File \"C:\\Users\\carlo\\anaconda3\\Lib\\site-packages\\IPython\\core\\ultratb.py\", line 1435, in structured_traceback\n",
      "    return FormattedTB.structured_traceback(\n",
      "           ^^^^^^^^^^^^^^^^^^^^^^^^^^^^^^^^^\n",
      "  File \"C:\\Users\\carlo\\anaconda3\\Lib\\site-packages\\IPython\\core\\ultratb.py\", line 1326, in structured_traceback\n",
      "    return VerboseTB.structured_traceback(\n",
      "           ^^^^^^^^^^^^^^^^^^^^^^^^^^^^^^^\n",
      "  File \"C:\\Users\\carlo\\anaconda3\\Lib\\site-packages\\IPython\\core\\ultratb.py\", line 1173, in structured_traceback\n",
      "    formatted_exception = self.format_exception_as_a_whole(etype, evalue, etb, number_of_lines_of_context,\n",
      "                          ^^^^^^^^^^^^^^^^^^^^^^^^^^^^^^^^^^^^^^^^^^^^^^^^^^^^^^^^^^^^^^^^^^^^^^^^^^^^^^^^\n",
      "  File \"C:\\Users\\carlo\\anaconda3\\Lib\\site-packages\\IPython\\core\\ultratb.py\", line 1088, in format_exception_as_a_whole\n",
      "    frames.append(self.format_record(record))\n",
      "                  ^^^^^^^^^^^^^^^^^^^^^^^^^^\n",
      "  File \"C:\\Users\\carlo\\anaconda3\\Lib\\site-packages\\IPython\\core\\ultratb.py\", line 970, in format_record\n",
      "    frame_info.lines, Colors, self.has_colors, lvals\n",
      "    ^^^^^^^^^^^^^^^^\n",
      "  File \"C:\\Users\\carlo\\anaconda3\\Lib\\site-packages\\IPython\\core\\ultratb.py\", line 792, in lines\n",
      "    return self._sd.lines\n",
      "           ^^^^^^^^^^^^^^\n",
      "  File \"C:\\Users\\carlo\\anaconda3\\Lib\\site-packages\\stack_data\\utils.py\", line 145, in cached_property_wrapper\n",
      "    value = obj.__dict__[self.func.__name__] = self.func(obj)\n",
      "                                               ^^^^^^^^^^^^^^\n",
      "  File \"C:\\Users\\carlo\\anaconda3\\Lib\\site-packages\\stack_data\\core.py\", line 698, in lines\n",
      "    pieces = self.included_pieces\n",
      "             ^^^^^^^^^^^^^^^^^^^^\n",
      "  File \"C:\\Users\\carlo\\anaconda3\\Lib\\site-packages\\stack_data\\utils.py\", line 145, in cached_property_wrapper\n",
      "    value = obj.__dict__[self.func.__name__] = self.func(obj)\n",
      "                                               ^^^^^^^^^^^^^^\n",
      "  File \"C:\\Users\\carlo\\anaconda3\\Lib\\site-packages\\stack_data\\core.py\", line 649, in included_pieces\n",
      "    pos = scope_pieces.index(self.executing_piece)\n",
      "                             ^^^^^^^^^^^^^^^^^^^^\n",
      "  File \"C:\\Users\\carlo\\anaconda3\\Lib\\site-packages\\stack_data\\utils.py\", line 145, in cached_property_wrapper\n",
      "    value = obj.__dict__[self.func.__name__] = self.func(obj)\n",
      "                                               ^^^^^^^^^^^^^^\n",
      "  File \"C:\\Users\\carlo\\anaconda3\\Lib\\site-packages\\stack_data\\core.py\", line 628, in executing_piece\n",
      "    return only(\n",
      "           ^^^^^\n",
      "  File \"C:\\Users\\carlo\\anaconda3\\Lib\\site-packages\\executing\\executing.py\", line 164, in only\n",
      "    raise NotOneValueFound('Expected one value, found 0')\n",
      "executing.executing.NotOneValueFound: Expected one value, found 0\n"
     ]
    }
   ],
   "execution_count": 15
  },
  {
   "metadata": {
    "ExecuteTime": {
     "end_time": "2025-08-25T18:37:24.500456Z",
     "start_time": "2025-08-25T18:37:24.385171Z"
    }
   },
   "cell_type": "code",
   "source": [
    "%load_ext tensorboard\n",
    "%tensorboard --logdir \"E:\\sequence_game_board\\sequence_board_game\\training\\runs\\smoke\\run\" --port 5907 --reload_interval 3"
   ],
   "id": "5dbd94e5bc9e49",
   "outputs": [
    {
     "data": {
      "text/plain": [
       "Reusing TensorBoard on port 5907 (pid 70272), started 18:55:33 ago. (Use '!kill 70272' to kill it.)"
      ]
     },
     "metadata": {},
     "output_type": "display_data"
    },
    {
     "data": {
      "text/plain": [
       "<IPython.core.display.HTML object>"
      ],
      "text/html": [
       "\n",
       "      <iframe id=\"tensorboard-frame-4b208535b4eed94a\" width=\"100%\" height=\"800\" frameborder=\"0\">\n",
       "      </iframe>\n",
       "      <script>\n",
       "        (function() {\n",
       "          const frame = document.getElementById(\"tensorboard-frame-4b208535b4eed94a\");\n",
       "          const url = new URL(\"/\", window.location);\n",
       "          const port = 5907;\n",
       "          if (port) {\n",
       "            url.port = port;\n",
       "          }\n",
       "          frame.src = url;\n",
       "        })();\n",
       "      </script>\n",
       "    "
      ]
     },
     "metadata": {},
     "output_type": "display_data"
    }
   ],
   "execution_count": 3
  },
  {
   "metadata": {
    "ExecuteTime": {
     "end_time": "2025-08-24T23:39:50.513848Z",
     "start_time": "2025-08-24T23:39:50.507477Z"
    }
   },
   "cell_type": "code",
   "source": [
    "import os, glob, pprint\n",
    "from tensorboard.backend.event_processing import event_accumulator as EA\n",
    "\n",
    "LOGDIR = r\"E:/sequence_game_board/sequence_board_game/runs/smoke/run/\"   # point at the parent, not the leaf\n",
    "events = glob.glob(os.path.join(LOGDIR, \"**\", \"events.out.tfevents.*\"), recursive=True)\n",
    "print(\"Found\", len(events), \"event file(s)\")\n",
    "pprint.pprint(events[-5:])\n",
    "\n",
    "if events:\n",
    "    ea = EA.EventAccumulator(os.path.dirname(events[-1]))  # load its containing directory\n",
    "    ea.Reload()\n",
    "    print(\"\\nTAGS:\", ea.Tags())        # should include 'scalars'\n",
    "    print(\"Scalar keys:\", list(ea.Scalars('loss/total')[:3]) if 'loss/total' in ea.Tags().get('scalars', []) else \"no loss/total\")\n",
    "    size = os.path.getsize(events[-1])\n",
    "    print(\"Event file size (bytes):\", size)"
   ],
   "id": "1929e3ef8e3ae446",
   "outputs": [
    {
     "name": "stdout",
     "output_type": "stream",
     "text": [
      "Found 0 event file(s)\n",
      "[]\n"
     ]
    }
   ],
   "execution_count": 7
  },
  {
   "metadata": {},
   "cell_type": "code",
   "outputs": [],
   "execution_count": null,
   "source": "",
   "id": "b6da1f3f90a33841"
  }
 ],
 "metadata": {
  "kernelspec": {
   "display_name": "Python 3",
   "language": "python",
   "name": "python3"
  },
  "language_info": {
   "codemirror_mode": {
    "name": "ipython",
    "version": 2
   },
   "file_extension": ".py",
   "mimetype": "text/x-python",
   "name": "python",
   "nbconvert_exporter": "python",
   "pygments_lexer": "ipython2",
   "version": "2.7.6"
  }
 },
 "nbformat": 4,
 "nbformat_minor": 5
}
