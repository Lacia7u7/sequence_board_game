{
 "cells": [
  {
   "metadata": {},
   "cell_type": "markdown",
   "source": [
    "# Starter: Sequence RL — debug-friendly notebook (Anaconda base)\n",
    "\n",
    "Run the cells **in order** (1 → 10).\n",
    "This notebook:\n",
    "- uses your Anaconda base env (no venv),\n",
    "- verifies CUDA,\n",
    "- wires `sys.path` so `training/` imports,\n",
    "- runs the trainer **in-process** (easy to debug) or via subprocess,\n",
    "- starts TensorBoard,\n",
    "- evaluates a saved policy,\n",
    "- and gives quick unit-test & step-debug helpers.\n"
   ],
   "id": "c496235011770648"
  },
  {
   "metadata": {
    "ExecuteTime": {
     "end_time": "2025-08-29T18:27:43.325754Z",
     "start_time": "2025-08-29T18:27:38.534693Z"
    }
   },
   "cell_type": "code",
   "source": [
    "import os, sys, subprocess, textwrap\n",
    "\n",
    "print(\"Python:\", sys.executable)\n",
    "try:\n",
    "    import torch\n",
    "    print(\"PyTorch:\", torch.__version__)\n",
    "    print(\"CUDA available:\", torch.cuda.is_available())\n",
    "    print(\"CUDA version:\", getattr(torch.version, \"cuda\", None))\n",
    "    if torch.cuda.is_available():\n",
    "        print(\"CUDA device count:\", torch.cuda.device_count())\n",
    "        print(\"Device 0:\", torch.cuda.get_device_name(0))\n",
    "except Exception as e:\n",
    "    print(\"Torch import error:\", e)\n",
    "\n",
    "# Optional: show nvidia-smi (won't crash if missing)\n",
    "try:\n",
    "    print(\"\\n--- nvidia-smi ---\")\n",
    "    out = subprocess.run([\"nvidia-smi\"], capture_output=True, text=True)\n",
    "    print(out.stdout or out.stderr)\n",
    "except Exception as e:\n",
    "    print(\"nvidia-smi not available:\", e)\n"
   ],
   "id": "a41da3316c0ab59a",
   "outputs": [
    {
     "name": "stdout",
     "output_type": "stream",
     "text": [
      "Python: C:\\Users\\carlo\\anaconda3\\python.exe\n",
      "PyTorch: 2.2.1\n",
      "CUDA available: True\n",
      "CUDA version: 12.1\n",
      "CUDA device count: 1\n",
      "Device 0: NVIDIA GeForce RTX 3050 Laptop GPU\n",
      "\n",
      "--- nvidia-smi ---\n",
      "Fri Aug 29 12:27:43 2025       \n",
      "+-----------------------------------------------------------------------------------------+\n",
      "| NVIDIA-SMI 551.61                 Driver Version: 551.61         CUDA Version: 12.4     |\n",
      "|-----------------------------------------+------------------------+----------------------+\n",
      "| GPU  Name                     TCC/WDDM  | Bus-Id          Disp.A | Volatile Uncorr. ECC |\n",
      "| Fan  Temp   Perf          Pwr:Usage/Cap |           Memory-Usage | GPU-Util  Compute M. |\n",
      "|                                         |                        |               MIG M. |\n",
      "|=========================================+========================+======================|\n",
      "|   0  NVIDIA GeForce RTX 3050 ...  WDDM  |   00000000:01:00.0 Off |                  N/A |\n",
      "| N/A   58C    P8              4W /   25W |     186MiB /   4096MiB |      0%      Default |\n",
      "|                                         |                        |                  N/A |\n",
      "+-----------------------------------------+------------------------+----------------------+\n",
      "                                                                                         \n",
      "+-----------------------------------------------------------------------------------------+\n",
      "| Processes:                                                                              |\n",
      "|  GPU   GI   CI        PID   Type   Process name                              GPU Memory |\n",
      "|        ID   ID                                                               Usage      |\n",
      "|=========================================================================================|\n",
      "|    0   N/A  N/A     10532      C   C:\\Users\\carlo\\anaconda3\\python.exe         N/A      |\n",
      "|    0   N/A  N/A     11236    C+G   ...2txyewy\\StartMenuExperienceHost.exe      N/A      |\n",
      "|    0   N/A  N/A     12716    C+G   ...CBS_cw5n1h2txyewy\\TextInputHost.exe      N/A      |\n",
      "|    0   N/A  N/A     12848    C+G   ...nt.CBS_cw5n1h2txyewy\\SearchHost.exe      N/A      |\n",
      "|    0   N/A  N/A     15964    C+G   ...n\\139.0.3405.111\\msedgewebview2.exe      N/A      |\n",
      "|    0   N/A  N/A     16604    C+G   C:\\Windows\\System32\\ShellHost.exe           N/A      |\n",
      "|    0   N/A  N/A     17364    C+G   ...Desktop\\app-3.5.2\\GitHubDesktop.exe      N/A      |\n",
      "|    0   N/A  N/A     18064    C+G   ...m 2025.2.0.1\\jbr\\bin\\cef_server.exe      N/A      |\n",
      "|    0   N/A  N/A     20116    C+G   ...ZWMJ2QHF7EXQJXRPE6GR5GOTQ\\DeepL.exe      N/A      |\n",
      "|    0   N/A  N/A     20820    C+G   ...les\\Microsoft OneDrive\\OneDrive.exe      N/A      |\n",
      "|    0   N/A  N/A     21300    C+G   ...ekyb3d8bbwe\\PhoneExperienceHost.exe      N/A      |\n",
      "|    0   N/A  N/A     21608    C+G   C:\\Windows\\explorer.exe                     N/A      |\n",
      "|    0   N/A  N/A     22908    C+G   ...n\\139.0.3405.111\\msedgewebview2.exe      N/A      |\n",
      "|    0   N/A  N/A     22916    C+G   ...64__8wekyb3d8bbwe\\CalculatorApp.exe      N/A      |\n",
      "|    0   N/A  N/A     23036    C+G   ...by Google One\\1.9.0.6\\googleone.exe      N/A      |\n",
      "|    0   N/A  N/A     24032    C+G   ...3.0_x64__cv1g1gvanyjgm\\WhatsApp.exe      N/A      |\n",
      "|    0   N/A  N/A     24472    C+G   ...n\\139.0.3405.119\\msedgewebview2.exe      N/A      |\n",
      "|    0   N/A  N/A     39920    C+G   ...t.LockApp_cw5n1h2txyewy\\LockApp.exe      N/A      |\n",
      "+-----------------------------------------------------------------------------------------+\n",
      "\n"
     ]
    }
   ],
   "execution_count": 1
  },
  {
   "metadata": {
    "jupyter": {
     "is_executing": true
    },
    "ExecuteTime": {
     "start_time": "2025-09-02T00:40:29.120062Z"
    }
   },
   "cell_type": "code",
   "source": [
    "# ✅ Run training.scripts.train in-process with a merged temp config,\n",
    "#    showing output LIVE in the PyCharm console while debugging.\n",
    "\n",
    "import os, sys, runpy, importlib, json, time\n",
    "\n",
    "# --- configure your base config and overrides (dot-paths supported) ---\n",
    "CFG_PATH = r\"E:\\sequence_game_board\\sequence_board_game\\training\\configs\\full-tiny-smoke.json\"\n",
    "OVERRIDE = {\n",
    "    \"training.total_updates\": 20\n",
    "}\n",
    "\n",
    "# --- helpers: load cfg, apply dot-path overrides, write temp cfg ---\n",
    "def load_json(path):\n",
    "    with open(path, \"r\", encoding=\"utf-8\") as f:\n",
    "        return json.load(f)\n",
    "\n",
    "def apply_overrides(cfg: dict, overrides: dict) -> dict:\n",
    "    out = json.loads(json.dumps(cfg))  # deep copy\n",
    "    for k, v in overrides.items():\n",
    "        cur = out\n",
    "        parts = k.split(\".\")\n",
    "        for p in parts[:-1]:\n",
    "            if p not in cur or not isinstance(cur[p], dict):\n",
    "                cur[p] = {}\n",
    "            cur = cur[p]\n",
    "        cur[parts[-1]] = v\n",
    "    return out\n",
    "\n",
    "# --- compute repo root (parent of 'training' folder) and ensure import path ---\n",
    "# CFG_PATH .../training/configs/xxx.json  -> go up two levels to repo root\n",
    "project_root = os.path.abspath(os.path.join(os.path.dirname(CFG_PATH), os.pardir, os.pardir))\n",
    "print(\"Project root:\", project_root)\n",
    "if project_root not in sys.path:\n",
    "    sys.path.insert(0, project_root)\n",
    "\n",
    "# --- purge any cached 'training' modules so edits are picked up ---\n",
    "to_purge = [m for m in list(sys.modules) if m == \"training\" or m.startswith(\"training.\")]\n",
    "for m in to_purge:\n",
    "    sys.modules.pop(m, None)\n",
    "importlib.invalidate_caches()\n",
    "\n",
    "# --- build merged temp config ---\n",
    "base_cfg = load_json(CFG_PATH)\n",
    "merged_cfg = apply_overrides(base_cfg, OVERRIDE)\n",
    "\n",
    "cfg_dir = os.path.dirname(CFG_PATH)\n",
    "runtime_cfg_path = os.path.join(cfg_dir, f\"_runtime_{int(time.time())}.json\")\n",
    "with open(runtime_cfg_path, \"w\", encoding=\"utf-8\") as f:\n",
    "    json.dump(merged_cfg, f, indent=2)\n",
    "print(\"Merged config written to:\", runtime_cfg_path)\n",
    "print(\"total_updates =\", merged_cfg.get(\"training\", {}).get(\"total_updates\"))\n",
    "\n",
    "# --- (optional) encourage line-buffered output in some environments ---\n",
    "try:\n",
    "    sys.stdout.reconfigure(line_buffering=True)  # Python 3.7+\n",
    "    sys.stderr.reconfigure(line_buffering=True)\n",
    "except Exception:\n",
    "    pass\n",
    "\n",
    "# --- run the train module in-process with the merged config (no redirection) ---\n",
    "argv = [\"training.scripts.train\", \"--config\", runtime_cfg_path]\n",
    "print(\"Running in-process with argv:\", argv)\n",
    "\n",
    "old_argv = list(sys.argv)\n",
    "exit_code = 0\n",
    "try:\n",
    "    sys.argv = argv\n",
    "    # All prints from training.scripts.train will appear LIVE in PyCharm's console\n",
    "    runpy.run_module(\"training.scripts.train\", run_name=\"__main__\", alter_sys=True)\n",
    "except SystemExit as se:\n",
    "    exit_code = int(getattr(se, \"code\", 0) or 0)\n",
    "except Exception as e:\n",
    "    # Any exception prints directly to the console\n",
    "    import traceback\n",
    "    traceback.print_exc()\n",
    "    exit_code = 1\n",
    "finally:\n",
    "    sys.argv = old_argv\n",
    "\n",
    "print(\"Exit code:\", exit_code)\n",
    "\n",
    "# (Optional) clean up the temp config file\n",
    "try:\n",
    "    os.remove(runtime_cfg_path)\n",
    "except Exception:\n",
    "    pass\n"
   ],
   "id": "8228756e6c62d23b",
   "outputs": [
    {
     "name": "stdout",
     "output_type": "stream",
     "text": [
      "Project root: E:\\sequence_game_board\\sequence_board_game\n",
      "Merged config written to: E:\\sequence_game_board\\sequence_board_game\\training\\configs\\_runtime_1756773629.json\n",
      "total_updates = 20\n",
      "Running in-process with argv: ['training.scripts.train', '--config', 'E:\\\\sequence_game_board\\\\sequence_board_game\\\\training\\\\configs\\\\_runtime_1756773629.json']\n",
      "[resume] failed to load latest run weights from 'E:\\sequence_game_board\\sequence_board_game\\training\\runs\\smoke\\full\\run\\policy_final.pt': [Errno 2] No such file or directory: 'E:\\\\sequence_game_board\\\\sequence_board_game\\\\training\\\\runs\\\\smoke\\\\full\\\\run\\\\policy_final.pt'\n"
     ]
    }
   ],
   "execution_count": null
  },
  {
   "metadata": {},
   "cell_type": "markdown",
   "source": "##EVAL",
   "id": "12f6081fa35b34f6"
  },
  {
   "metadata": {},
   "cell_type": "code",
   "outputs": [],
   "execution_count": null,
   "source": "",
   "id": "60f48f99727326f7"
  },
  {
   "metadata": {
    "ExecuteTime": {
     "end_time": "2025-09-01T19:40:12.744599Z",
     "start_time": "2025-09-01T19:40:10.961929Z"
    }
   },
   "cell_type": "code",
   "source": [
    "# ✅ Run training.scripts.eval in-process with a merged temp config (overrides applied reliably)\n",
    "\n",
    "import os, sys, runpy, importlib, contextlib, io, json, time\n",
    "\n",
    "CFG_PATH = r\"E:\\sequence_game_board\\sequence_board_game\\training\\configs\\full-tiny-smoke.json\"\n",
    "EVAL_OVERRIDE = {\n",
    "    # Example: you can override file paths or add agent kwargs here if needed\n",
    "    #\"evaluation.agent_kwargs.agents/training/ppo_lstm_agent.py.policy_path\": \"runs/smoke/full/policy_final.pt\",\n",
    "}\n",
    "\n",
    "def load_json(path):\n",
    "    with open(path, \"r\", encoding=\"utf-8\") as f:\n",
    "        return json.load(f)\n",
    "\n",
    "def apply_overrides(cfg: dict, overrides: dict) -> dict:\n",
    "    out = json.loads(json.dumps(cfg))\n",
    "    for k, v in overrides.items():\n",
    "        cur = out\n",
    "        parts = k.split(\".\")\n",
    "        for p in parts[:-1]:\n",
    "            if p not in cur or not isinstance(cur[p], dict):\n",
    "                cur[p] = {}\n",
    "            cur = cur[p]\n",
    "        cur[parts[-1]] = v\n",
    "    return out\n",
    "\n",
    "project_root = os.path.abspath(os.path.join(os.path.dirname(CFG_PATH), os.pardir, os.pardir))\n",
    "if project_root not in sys.path:\n",
    "    sys.path.insert(0, project_root)\n",
    "\n",
    "to_purge = [m for m in list(sys.modules) if m == \"training\" or m.startswith(\"training.\")]\n",
    "for m in to_purge:\n",
    "    sys.modules.pop(m, None)\n",
    "importlib.invalidate_caches()\n",
    "\n",
    "base_cfg = load_json(CFG_PATH)\n",
    "merged_cfg = apply_overrides(base_cfg, EVAL_OVERRIDE)\n",
    "\n",
    "cfg_dir = os.path.dirname(CFG_PATH)\n",
    "runtime_cfg_path = os.path.join(cfg_dir, f\"_eval_runtime_{int(time.time())}.json\")\n",
    "with open(runtime_cfg_path, \"w\", encoding=\"utf-8\") as f:\n",
    "    json.dump(merged_cfg, f, indent=2)\n",
    "print(\"Merged EVAL config:\", runtime_cfg_path)\n",
    "\n",
    "argv = [\"training.scripts.eval\", \"--config\", runtime_cfg_path, \"--episodes\", \"100\"]\n",
    "\n",
    "stdout_buf, stderr_buf = io.StringIO(), io.StringIO()\n",
    "print(\"Running eval in-process with argv:\", argv)\n",
    "\n",
    "with contextlib.redirect_stdout(stdout_buf), contextlib.redirect_stderr(stderr_buf):\n",
    "    old_argv = sys.argv\n",
    "    try:\n",
    "        sys.argv = argv\n",
    "        runpy.run_module(\"training.scripts.eval\", run_name=\"__main__\", alter_sys=True)\n",
    "        exit_code = 0\n",
    "    except SystemExit as se:\n",
    "        exit_code = int(getattr(se, \"code\", 0) or 0)\n",
    "    except Exception:\n",
    "        import traceback; traceback.print_exc()\n",
    "        exit_code = 1\n",
    "    finally:\n",
    "        sys.argv = old_argv\n",
    "\n",
    "print(\"--- STDOUT (tail) ---\\n\", stdout_buf.getvalue()[-8000:])\n",
    "print(\"--- STDERR (tail) ---\\n\", stderr_buf.getvalue()[-8000:])\n",
    "print(\"Exit code:\", exit_code)\n"
   ],
   "id": "91473a059632e7c",
   "outputs": [
    {
     "name": "stdout",
     "output_type": "stream",
     "text": [
      "Merged EVAL config: E:\\sequence_game_board\\sequence_board_game\\training\\configs\\_eval_runtime_1756755610.json\n",
      "Running eval in-process with argv: ['training.scripts.eval', '--config', 'E:\\\\sequence_game_board\\\\sequence_board_game\\\\training\\\\configs\\\\_eval_runtime_1756755610.json', '--episodes', '100']\n"
     ]
    },
    {
     "ename": "KeyboardInterrupt",
     "evalue": "UI closed",
     "output_type": "error",
     "traceback": [
      "\u001B[1;31m---------------------------------------------------------------------------\u001B[0m",
      "\u001B[1;31mKeyboardInterrupt\u001B[0m                         Traceback (most recent call last)",
      "Cell \u001B[1;32mIn[9], line 54\u001B[0m\n\u001B[0;32m     52\u001B[0m \u001B[38;5;28;01mtry\u001B[39;00m:\n\u001B[0;32m     53\u001B[0m     sys\u001B[38;5;241m.\u001B[39margv \u001B[38;5;241m=\u001B[39m argv\n\u001B[1;32m---> 54\u001B[0m     runpy\u001B[38;5;241m.\u001B[39mrun_module(\u001B[38;5;124m\"\u001B[39m\u001B[38;5;124mtraining.scripts.eval\u001B[39m\u001B[38;5;124m\"\u001B[39m, run_name\u001B[38;5;241m=\u001B[39m\u001B[38;5;124m\"\u001B[39m\u001B[38;5;124m__main__\u001B[39m\u001B[38;5;124m\"\u001B[39m, alter_sys\u001B[38;5;241m=\u001B[39m\u001B[38;5;28;01mTrue\u001B[39;00m)\n\u001B[0;32m     55\u001B[0m     exit_code \u001B[38;5;241m=\u001B[39m \u001B[38;5;241m0\u001B[39m\n\u001B[0;32m     56\u001B[0m \u001B[38;5;28;01mexcept\u001B[39;00m \u001B[38;5;167;01mSystemExit\u001B[39;00m \u001B[38;5;28;01mas\u001B[39;00m se:\n",
      "File \u001B[1;32m<frozen runpy>:226\u001B[0m, in \u001B[0;36mrun_module\u001B[1;34m(mod_name, init_globals, run_name, alter_sys)\u001B[0m\n",
      "File \u001B[1;32m<frozen runpy>:98\u001B[0m, in \u001B[0;36m_run_module_code\u001B[1;34m(code, init_globals, mod_name, mod_spec, pkg_name, script_name)\u001B[0m\n",
      "File \u001B[1;32m<frozen runpy>:88\u001B[0m, in \u001B[0;36m_run_code\u001B[1;34m(code, run_globals, init_globals, mod_name, mod_spec, pkg_name, script_name)\u001B[0m\n",
      "File \u001B[1;32mE:\\sequence_game_board\\sequence_board_game\\training\\scripts\\eval.py:137\u001B[0m\n\u001B[0;32m    134\u001B[0m         \u001B[38;5;28mprint\u001B[39m(line)\n\u001B[0;32m    136\u001B[0m \u001B[38;5;28;01mif\u001B[39;00m \u001B[38;5;18m__name__\u001B[39m \u001B[38;5;241m==\u001B[39m \u001B[38;5;124m\"\u001B[39m\u001B[38;5;124m__main__\u001B[39m\u001B[38;5;124m\"\u001B[39m:\n\u001B[1;32m--> 137\u001B[0m     main()\n",
      "File \u001B[1;32mE:\\sequence_game_board\\sequence_board_game\\training\\scripts\\eval.py:88\u001B[0m, in \u001B[0;36mmain\u001B[1;34m()\u001B[0m\n\u001B[0;32m     86\u001B[0m \u001B[38;5;28;01mfor\u001B[39;00m ep \u001B[38;5;129;01min\u001B[39;00m \u001B[38;5;28mrange\u001B[39m(args\u001B[38;5;241m.\u001B[39mepisodes):\n\u001B[0;32m     87\u001B[0m     \u001B[38;5;28;01mif\u001B[39;00m ep \u001B[38;5;241m%\u001B[39m \u001B[38;5;241m2\u001B[39m \u001B[38;5;241m==\u001B[39m \u001B[38;5;241m0\u001B[39m:\n\u001B[1;32m---> 88\u001B[0m         terminated, truncated, winners \u001B[38;5;241m=\u001B[39m play_match(env, eagent, bagent, seed\u001B[38;5;241m=\u001B[39mep\u001B[38;5;241m*\u001B[39mseed)\n\u001B[0;32m     89\u001B[0m         e_won \u001B[38;5;241m=\u001B[39m (\u001B[38;5;241m0\u001B[39m \u001B[38;5;129;01min\u001B[39;00m winners)\n\u001B[0;32m     90\u001B[0m     \u001B[38;5;28;01melse\u001B[39;00m:\n",
      "File \u001B[1;32mE:\\sequence_game_board\\sequence_board_game\\training\\scripts\\eval.py:35\u001B[0m, in \u001B[0;36mplay_match\u001B[1;34m(env, a, b, seed)\u001B[0m\n\u001B[0;32m     33\u001B[0m \u001B[38;5;28;01mdef\u001B[39;00m \u001B[38;5;21mplay_match\u001B[39m(env: SequenceEnv, a: BaseAgent, b: BaseAgent, seed: Optional[\u001B[38;5;28mint\u001B[39m]) \u001B[38;5;241m-\u001B[39m\u001B[38;5;241m>\u001B[39m Tuple[\u001B[38;5;28mbool\u001B[39m, \u001B[38;5;28mbool\u001B[39m, List[\u001B[38;5;28mint\u001B[39m]]:\n\u001B[0;32m     34\u001B[0m     mgr \u001B[38;5;241m=\u001B[39m SelfPlayManager([a, b], env, max_steps\u001B[38;5;241m=\u001B[39m\u001B[38;5;28mint\u001B[39m(env\u001B[38;5;241m.\u001B[39m_step_limit))\n\u001B[1;32m---> 35\u001B[0m     out \u001B[38;5;241m=\u001B[39m mgr\u001B[38;5;241m.\u001B[39mplay_episode(seed\u001B[38;5;241m=\u001B[39mseed, render\u001B[38;5;241m=\u001B[39m\u001B[38;5;28;01mFalse\u001B[39;00m)\n\u001B[0;32m     36\u001B[0m     \u001B[38;5;28;01mreturn\u001B[39;00m out[\u001B[38;5;124m\"\u001B[39m\u001B[38;5;124mterminated\u001B[39m\u001B[38;5;124m\"\u001B[39m], out[\u001B[38;5;124m\"\u001B[39m\u001B[38;5;124mtruncated\u001B[39m\u001B[38;5;124m\"\u001B[39m], out\u001B[38;5;241m.\u001B[39mget(\u001B[38;5;124m\"\u001B[39m\u001B[38;5;124mwinners\u001B[39m\u001B[38;5;124m\"\u001B[39m, [])\n",
      "File \u001B[1;32mE:\\sequence_game_board\\sequence_board_game\\training\\agents\\selfplay_manager.py:46\u001B[0m, in \u001B[0;36mSelfPlayManager.play_episode\u001B[1;34m(self, seed, render)\u001B[0m\n\u001B[0;32m     37\u001B[0m ctx: AgentCtx \u001B[38;5;241m=\u001B[39m {\n\u001B[0;32m     38\u001B[0m     \u001B[38;5;124m\"\u001B[39m\u001B[38;5;124mobs\u001B[39m\u001B[38;5;124m\"\u001B[39m: obs,\n\u001B[0;32m     39\u001B[0m     \u001B[38;5;124m\"\u001B[39m\u001B[38;5;124minfo\u001B[39m\u001B[38;5;124m\"\u001B[39m: info,\n\u001B[1;32m   (...)\u001B[0m\n\u001B[0;32m     42\u001B[0m     \u001B[38;5;124m\"\u001B[39m\u001B[38;5;124mlegal_mask\u001B[39m\u001B[38;5;124m\"\u001B[39m: legal_mask,\n\u001B[0;32m     43\u001B[0m }\n\u001B[0;32m     45\u001B[0m agent \u001B[38;5;241m=\u001B[39m \u001B[38;5;28mself\u001B[39m\u001B[38;5;241m.\u001B[39magents[current_seat \u001B[38;5;241m%\u001B[39m \u001B[38;5;28mlen\u001B[39m(\u001B[38;5;28mself\u001B[39m\u001B[38;5;241m.\u001B[39magents)]\n\u001B[1;32m---> 46\u001B[0m action \u001B[38;5;241m=\u001B[39m agent\u001B[38;5;241m.\u001B[39mselect_action(legal_mask, ctx)\n\u001B[0;32m     48\u001B[0m obs, reward, terminated, truncated, info \u001B[38;5;241m=\u001B[39m \u001B[38;5;28mself\u001B[39m\u001B[38;5;241m.\u001B[39menv\u001B[38;5;241m.\u001B[39mstep(action)\n\u001B[0;32m     49\u001B[0m totals[current_seat] \u001B[38;5;241m=\u001B[39m totals\u001B[38;5;241m.\u001B[39mget(current_seat, \u001B[38;5;241m0.0\u001B[39m) \u001B[38;5;241m+\u001B[39m \u001B[38;5;28mfloat\u001B[39m(reward)\n",
      "File \u001B[1;32mE:\\sequence_game_board\\sequence_board_game\\training\\agents\\human_agent.py:54\u001B[0m, in \u001B[0;36mHumanAgent.select_action\u001B[1;34m(self, legal_mask, ctx)\u001B[0m\n\u001B[0;32m     52\u001B[0m \u001B[38;5;28;01mdef\u001B[39;00m \u001B[38;5;21mselect_action\u001B[39m(\u001B[38;5;28mself\u001B[39m, legal_mask: Optional[np\u001B[38;5;241m.\u001B[39mndarray], ctx: Optional[Dict[\u001B[38;5;28mstr\u001B[39m, Any]] \u001B[38;5;241m=\u001B[39m \u001B[38;5;28;01mNone\u001B[39;00m) \u001B[38;5;241m-\u001B[39m\u001B[38;5;241m>\u001B[39m \u001B[38;5;28mint\u001B[39m:\n\u001B[0;32m     53\u001B[0m     info \u001B[38;5;241m=\u001B[39m ctx\u001B[38;5;241m.\u001B[39mget(\u001B[38;5;124m\"\u001B[39m\u001B[38;5;124minfo\u001B[39m\u001B[38;5;124m\"\u001B[39m) \u001B[38;5;28;01mif\u001B[39;00m ctx \u001B[38;5;28;01melse\u001B[39;00m {}\n\u001B[1;32m---> 54\u001B[0m     \u001B[38;5;28;01mreturn\u001B[39;00m \u001B[38;5;28mself\u001B[39m\u001B[38;5;241m.\u001B[39mui\u001B[38;5;241m.\u001B[39mchoose_action(\u001B[38;5;28mself\u001B[39m\u001B[38;5;241m.\u001B[39menv, legal_mask, info)\n",
      "File \u001B[1;32mE:\\sequence_game_board\\sequence_board_game\\training\\ui\\human_agent_ui.py:122\u001B[0m, in \u001B[0;36mHumanAgentUI.choose_action\u001B[1;34m(self, env, legal_mask, info)\u001B[0m\n\u001B[0;32m    120\u001B[0m chosen: Optional[\u001B[38;5;28mint\u001B[39m] \u001B[38;5;241m=\u001B[39m \u001B[38;5;28;01mNone\u001B[39;00m\n\u001B[0;32m    121\u001B[0m \u001B[38;5;28;01mwhile\u001B[39;00m chosen \u001B[38;5;129;01mis\u001B[39;00m \u001B[38;5;28;01mNone\u001B[39;00m:\n\u001B[1;32m--> 122\u001B[0m     chosen \u001B[38;5;241m=\u001B[39m \u001B[38;5;28mself\u001B[39m\u001B[38;5;241m.\u001B[39m_frame(env, legal_set, my_team)\n\u001B[0;32m    123\u001B[0m \u001B[38;5;28;01mreturn\u001B[39;00m chosen\n",
      "File \u001B[1;32mE:\\sequence_game_board\\sequence_board_game\\training\\ui\\human_agent_ui.py:141\u001B[0m, in \u001B[0;36mHumanAgentUI._frame\u001B[1;34m(self, env, legal_set, my_team)\u001B[0m\n\u001B[0;32m    139\u001B[0m \u001B[38;5;28;01mif\u001B[39;00m event\u001B[38;5;241m.\u001B[39mtype \u001B[38;5;241m==\u001B[39m pygame\u001B[38;5;241m.\u001B[39mQUIT:\n\u001B[0;32m    140\u001B[0m     pygame\u001B[38;5;241m.\u001B[39mquit()\n\u001B[1;32m--> 141\u001B[0m     \u001B[38;5;28;01mraise\u001B[39;00m \u001B[38;5;167;01mKeyboardInterrupt\u001B[39;00m(\u001B[38;5;124m\"\u001B[39m\u001B[38;5;124mUI closed\u001B[39m\u001B[38;5;124m\"\u001B[39m)\n\u001B[0;32m    142\u001B[0m \u001B[38;5;28;01mif\u001B[39;00m event\u001B[38;5;241m.\u001B[39mtype \u001B[38;5;241m==\u001B[39m pygame\u001B[38;5;241m.\u001B[39mKEYDOWN:\n\u001B[0;32m    143\u001B[0m     \u001B[38;5;28;01mif\u001B[39;00m event\u001B[38;5;241m.\u001B[39mkey \u001B[38;5;241m==\u001B[39m pygame\u001B[38;5;241m.\u001B[39mK_ESCAPE:\n",
      "\u001B[1;31mKeyboardInterrupt\u001B[0m: UI closed"
     ]
    }
   ],
   "execution_count": 9
  },
  {
   "metadata": {
    "ExecuteTime": {
     "end_time": "2025-08-25T20:59:59.121404Z",
     "start_time": "2025-08-25T20:59:59.006660Z"
    }
   },
   "cell_type": "code",
   "source": [
    "%load_ext tensorboard\n",
    "%tensorboard --logdir \"E:\\sequence_game_board\\sequence_board_game\\training\\runs\\smoke\\run\" --port 5907 --reload_interval 3"
   ],
   "id": "5dbd94e5bc9e49",
   "outputs": [
    {
     "name": "stdout",
     "output_type": "stream",
     "text": [
      "The tensorboard extension is already loaded. To reload it, use:\n",
      "  %reload_ext tensorboard\n"
     ]
    },
    {
     "data": {
      "text/plain": [
       "Reusing TensorBoard on port 5907 (pid 70272), started 21:18:08 ago. (Use '!kill 70272' to kill it.)"
      ]
     },
     "metadata": {},
     "output_type": "display_data"
    },
    {
     "data": {
      "text/plain": [
       "<IPython.core.display.HTML object>"
      ],
      "text/html": [
       "\n",
       "      <iframe id=\"tensorboard-frame-1c80317fa3b1799d\" width=\"100%\" height=\"800\" frameborder=\"0\">\n",
       "      </iframe>\n",
       "      <script>\n",
       "        (function() {\n",
       "          const frame = document.getElementById(\"tensorboard-frame-1c80317fa3b1799d\");\n",
       "          const url = new URL(\"/\", window.location);\n",
       "          const port = 5907;\n",
       "          if (port) {\n",
       "            url.port = port;\n",
       "          }\n",
       "          frame.src = url;\n",
       "        })();\n",
       "      </script>\n",
       "    "
      ]
     },
     "metadata": {},
     "output_type": "display_data"
    }
   ],
   "execution_count": 17
  },
  {
   "metadata": {
    "ExecuteTime": {
     "end_time": "2025-08-24T23:39:50.513848Z",
     "start_time": "2025-08-24T23:39:50.507477Z"
    }
   },
   "cell_type": "code",
   "source": [
    "import os, glob, pprint\n",
    "from tensorboard.backend.event_processing import event_accumulator as EA\n",
    "\n",
    "LOGDIR = r\"E:/sequence_game_board/sequence_board_game/runs/smoke/run/\"   # point at the parent, not the leaf\n",
    "events = glob.glob(os.path.join(LOGDIR, \"**\", \"events.out.tfevents.*\"), recursive=True)\n",
    "print(\"Found\", len(events), \"event file(s)\")\n",
    "pprint.pprint(events[-5:])\n",
    "\n",
    "if events:\n",
    "    ea = EA.EventAccumulator(os.path.dirname(events[-1]))  # load its containing directory\n",
    "    ea.Reload()\n",
    "    print(\"\\nTAGS:\", ea.Tags())        # should include 'scalars'\n",
    "    print(\"Scalar keys:\", list(ea.Scalars('loss/total')[:3]) if 'loss/total' in ea.Tags().get('scalars', []) else \"no loss/total\")\n",
    "    size = os.path.getsize(events[-1])\n",
    "    print(\"Event file size (bytes):\", size)"
   ],
   "id": "1929e3ef8e3ae446",
   "outputs": [
    {
     "name": "stdout",
     "output_type": "stream",
     "text": [
      "Found 0 event file(s)\n",
      "[]\n"
     ]
    }
   ],
   "execution_count": 7
  },
  {
   "metadata": {},
   "cell_type": "code",
   "outputs": [],
   "execution_count": null,
   "source": "",
   "id": "b6da1f3f90a33841"
  }
 ],
 "metadata": {
  "kernelspec": {
   "display_name": "Python 3",
   "language": "python",
   "name": "python3"
  },
  "language_info": {
   "codemirror_mode": {
    "name": "ipython",
    "version": 2
   },
   "file_extension": ".py",
   "mimetype": "text/x-python",
   "name": "python",
   "nbconvert_exporter": "python",
   "pygments_lexer": "ipython2",
   "version": "2.7.6"
  }
 },
 "nbformat": 4,
 "nbformat_minor": 5
}
