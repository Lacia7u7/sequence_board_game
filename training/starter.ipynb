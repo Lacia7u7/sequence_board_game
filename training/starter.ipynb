{
 "cells": [
  {
   "metadata": {},
   "cell_type": "markdown",
   "source": [
    "# Starter: Sequence RL — debug-friendly notebook (Anaconda base)\n",
    "\n",
    "Run the cells **in order** (1 → 10).\n",
    "This notebook:\n",
    "- uses your Anaconda base env (no venv),\n",
    "- verifies CUDA,\n",
    "- wires `sys.path` so `training/` imports,\n",
    "- runs the trainer **in-process** (easy to debug) or via subprocess,\n",
    "- starts TensorBoard,\n",
    "- evaluates a saved policy,\n",
    "- and gives quick unit-test & step-debug helpers.\n"
   ],
   "id": "c496235011770648"
  },
  {
   "metadata": {
    "ExecuteTime": {
     "end_time": "2025-08-29T18:27:43.325754Z",
     "start_time": "2025-08-29T18:27:38.534693Z"
    }
   },
   "cell_type": "code",
   "source": [
    "import os, sys, subprocess, textwrap\n",
    "\n",
    "print(\"Python:\", sys.executable)\n",
    "try:\n",
    "    import torch\n",
    "    print(\"PyTorch:\", torch.__version__)\n",
    "    print(\"CUDA available:\", torch.cuda.is_available())\n",
    "    print(\"CUDA version:\", getattr(torch.version, \"cuda\", None))\n",
    "    if torch.cuda.is_available():\n",
    "        print(\"CUDA device count:\", torch.cuda.device_count())\n",
    "        print(\"Device 0:\", torch.cuda.get_device_name(0))\n",
    "except Exception as e:\n",
    "    print(\"Torch import error:\", e)\n",
    "\n",
    "# Optional: show nvidia-smi (won't crash if missing)\n",
    "try:\n",
    "    print(\"\\n--- nvidia-smi ---\")\n",
    "    out = subprocess.run([\"nvidia-smi\"], capture_output=True, text=True)\n",
    "    print(out.stdout or out.stderr)\n",
    "except Exception as e:\n",
    "    print(\"nvidia-smi not available:\", e)\n"
   ],
   "id": "a41da3316c0ab59a",
   "outputs": [
    {
     "name": "stdout",
     "output_type": "stream",
     "text": [
      "Python: C:\\Users\\carlo\\anaconda3\\python.exe\n",
      "PyTorch: 2.2.1\n",
      "CUDA available: True\n",
      "CUDA version: 12.1\n",
      "CUDA device count: 1\n",
      "Device 0: NVIDIA GeForce RTX 3050 Laptop GPU\n",
      "\n",
      "--- nvidia-smi ---\n",
      "Fri Aug 29 12:27:43 2025       \n",
      "+-----------------------------------------------------------------------------------------+\n",
      "| NVIDIA-SMI 551.61                 Driver Version: 551.61         CUDA Version: 12.4     |\n",
      "|-----------------------------------------+------------------------+----------------------+\n",
      "| GPU  Name                     TCC/WDDM  | Bus-Id          Disp.A | Volatile Uncorr. ECC |\n",
      "| Fan  Temp   Perf          Pwr:Usage/Cap |           Memory-Usage | GPU-Util  Compute M. |\n",
      "|                                         |                        |               MIG M. |\n",
      "|=========================================+========================+======================|\n",
      "|   0  NVIDIA GeForce RTX 3050 ...  WDDM  |   00000000:01:00.0 Off |                  N/A |\n",
      "| N/A   58C    P8              4W /   25W |     186MiB /   4096MiB |      0%      Default |\n",
      "|                                         |                        |                  N/A |\n",
      "+-----------------------------------------+------------------------+----------------------+\n",
      "                                                                                         \n",
      "+-----------------------------------------------------------------------------------------+\n",
      "| Processes:                                                                              |\n",
      "|  GPU   GI   CI        PID   Type   Process name                              GPU Memory |\n",
      "|        ID   ID                                                               Usage      |\n",
      "|=========================================================================================|\n",
      "|    0   N/A  N/A     10532      C   C:\\Users\\carlo\\anaconda3\\python.exe         N/A      |\n",
      "|    0   N/A  N/A     11236    C+G   ...2txyewy\\StartMenuExperienceHost.exe      N/A      |\n",
      "|    0   N/A  N/A     12716    C+G   ...CBS_cw5n1h2txyewy\\TextInputHost.exe      N/A      |\n",
      "|    0   N/A  N/A     12848    C+G   ...nt.CBS_cw5n1h2txyewy\\SearchHost.exe      N/A      |\n",
      "|    0   N/A  N/A     15964    C+G   ...n\\139.0.3405.111\\msedgewebview2.exe      N/A      |\n",
      "|    0   N/A  N/A     16604    C+G   C:\\Windows\\System32\\ShellHost.exe           N/A      |\n",
      "|    0   N/A  N/A     17364    C+G   ...Desktop\\app-3.5.2\\GitHubDesktop.exe      N/A      |\n",
      "|    0   N/A  N/A     18064    C+G   ...m 2025.2.0.1\\jbr\\bin\\cef_server.exe      N/A      |\n",
      "|    0   N/A  N/A     20116    C+G   ...ZWMJ2QHF7EXQJXRPE6GR5GOTQ\\DeepL.exe      N/A      |\n",
      "|    0   N/A  N/A     20820    C+G   ...les\\Microsoft OneDrive\\OneDrive.exe      N/A      |\n",
      "|    0   N/A  N/A     21300    C+G   ...ekyb3d8bbwe\\PhoneExperienceHost.exe      N/A      |\n",
      "|    0   N/A  N/A     21608    C+G   C:\\Windows\\explorer.exe                     N/A      |\n",
      "|    0   N/A  N/A     22908    C+G   ...n\\139.0.3405.111\\msedgewebview2.exe      N/A      |\n",
      "|    0   N/A  N/A     22916    C+G   ...64__8wekyb3d8bbwe\\CalculatorApp.exe      N/A      |\n",
      "|    0   N/A  N/A     23036    C+G   ...by Google One\\1.9.0.6\\googleone.exe      N/A      |\n",
      "|    0   N/A  N/A     24032    C+G   ...3.0_x64__cv1g1gvanyjgm\\WhatsApp.exe      N/A      |\n",
      "|    0   N/A  N/A     24472    C+G   ...n\\139.0.3405.119\\msedgewebview2.exe      N/A      |\n",
      "|    0   N/A  N/A     39920    C+G   ...t.LockApp_cw5n1h2txyewy\\LockApp.exe      N/A      |\n",
      "+-----------------------------------------------------------------------------------------+\n",
      "\n"
     ]
    }
   ],
   "execution_count": 1
  },
  {
   "metadata": {
    "ExecuteTime": {
     "end_time": "2025-08-30T06:37:14.799529Z",
     "start_time": "2025-08-30T06:16:49.242258Z"
    }
   },
   "cell_type": "code",
   "source": [
    "# ✅ Run training.scripts.train in-process with a merged temp config,\n",
    "#    showing output LIVE in the PyCharm console while debugging.\n",
    "\n",
    "import os, sys, runpy, importlib, json, time\n",
    "\n",
    "# --- configure your base config and overrides (dot-paths supported) ---\n",
    "CFG_PATH = r\"E:\\sequence_game_board\\sequence_board_game\\training\\configs\\full-tiny-smoke.json\"\n",
    "OVERRIDE = {\n",
    "    \"training.total_updates\": 100\n",
    "}\n",
    "\n",
    "# --- helpers: load cfg, apply dot-path overrides, write temp cfg ---\n",
    "def load_json(path):\n",
    "    with open(path, \"r\", encoding=\"utf-8\") as f:\n",
    "        return json.load(f)\n",
    "\n",
    "def apply_overrides(cfg: dict, overrides: dict) -> dict:\n",
    "    out = json.loads(json.dumps(cfg))  # deep copy\n",
    "    for k, v in overrides.items():\n",
    "        cur = out\n",
    "        parts = k.split(\".\")\n",
    "        for p in parts[:-1]:\n",
    "            if p not in cur or not isinstance(cur[p], dict):\n",
    "                cur[p] = {}\n",
    "            cur = cur[p]\n",
    "        cur[parts[-1]] = v\n",
    "    return out\n",
    "\n",
    "# --- compute repo root (parent of 'training' folder) and ensure import path ---\n",
    "# CFG_PATH .../training/configs/xxx.json  -> go up two levels to repo root\n",
    "project_root = os.path.abspath(os.path.join(os.path.dirname(CFG_PATH), os.pardir, os.pardir))\n",
    "print(\"Project root:\", project_root)\n",
    "if project_root not in sys.path:\n",
    "    sys.path.insert(0, project_root)\n",
    "\n",
    "# --- purge any cached 'training' modules so edits are picked up ---\n",
    "to_purge = [m for m in list(sys.modules) if m == \"training\" or m.startswith(\"training.\")]\n",
    "for m in to_purge:\n",
    "    sys.modules.pop(m, None)\n",
    "importlib.invalidate_caches()\n",
    "\n",
    "# --- build merged temp config ---\n",
    "base_cfg = load_json(CFG_PATH)\n",
    "merged_cfg = apply_overrides(base_cfg, OVERRIDE)\n",
    "\n",
    "cfg_dir = os.path.dirname(CFG_PATH)\n",
    "runtime_cfg_path = os.path.join(cfg_dir, f\"_runtime_{int(time.time())}.json\")\n",
    "with open(runtime_cfg_path, \"w\", encoding=\"utf-8\") as f:\n",
    "    json.dump(merged_cfg, f, indent=2)\n",
    "print(\"Merged config written to:\", runtime_cfg_path)\n",
    "print(\"total_updates =\", merged_cfg.get(\"training\", {}).get(\"total_updates\"))\n",
    "\n",
    "# --- (optional) encourage line-buffered output in some environments ---\n",
    "try:\n",
    "    sys.stdout.reconfigure(line_buffering=True)  # Python 3.7+\n",
    "    sys.stderr.reconfigure(line_buffering=True)\n",
    "except Exception:\n",
    "    pass\n",
    "\n",
    "# --- run the train module in-process with the merged config (no redirection) ---\n",
    "argv = [\"training.scripts.train\", \"--config\", runtime_cfg_path]\n",
    "print(\"Running in-process with argv:\", argv)\n",
    "\n",
    "old_argv = list(sys.argv)\n",
    "exit_code = 0\n",
    "try:\n",
    "    sys.argv = argv\n",
    "    # All prints from training.scripts.train will appear LIVE in PyCharm's console\n",
    "    runpy.run_module(\"training.scripts.train\", run_name=\"__main__\", alter_sys=True)\n",
    "except SystemExit as se:\n",
    "    exit_code = int(getattr(se, \"code\", 0) or 0)\n",
    "except Exception as e:\n",
    "    # Any exception prints directly to the console\n",
    "    import traceback\n",
    "    traceback.print_exc()\n",
    "    exit_code = 1\n",
    "finally:\n",
    "    sys.argv = old_argv\n",
    "\n",
    "print(\"Exit code:\", exit_code)\n",
    "\n",
    "# (Optional) clean up the temp config file\n",
    "try:\n",
    "    os.remove(runtime_cfg_path)\n",
    "except Exception:\n",
    "    pass\n"
   ],
   "id": "8228756e6c62d23b",
   "outputs": [
    {
     "name": "stdout",
     "output_type": "stream",
     "text": [
      "Project root: E:\\sequence_game_board\\sequence_board_game\n",
      "Merged config written to: E:\\sequence_game_board\\sequence_board_game\\training\\configs\\_runtime_1756534610.json\n",
      "total_updates = 100\n",
      "Running in-process with argv: ['training.scripts.train', '--config', 'E:\\\\sequence_game_board\\\\sequence_board_game\\\\training\\\\configs\\\\_runtime_1756534610.json']\n",
      "[resume] loaded latest runt weights into policy: E:\\sequence_game_board\\sequence_board_game\\training\\runs\\smoke\\full\\run\\policy_final.pt (strict=False)\n",
      "update 1/100 | loss/total:-0.0240 | loss/policy:-0.0204 | loss/value:0.0332 | loss/entropy:2.0204 | fps:4.3 |  [eval] overall 78/87 (89.7%) | PPOFrozenAgent: 76/78 (97.4%) | GreedySequenceAgent: 2/3 (66.7%) | CenterHeuristicAgent: 0/1 (0.0%)\n",
      "[snapshots] added E:\\sequence_game_board\\sequence_board_game\\training\\runs\\smoke\\full\\run\\snapshots\\ppo_update_000001.pt\n",
      "update 2/100 | loss/total:-0.0188 | loss/policy:-0.0117 | loss/value:0.0275 | loss/entropy:2.0804 | fps:5.1 |  [eval] overall 156/177 (88.1%) | PPOFrozenAgent: 94/100 (94.0%) | RandomAgent: 49/55 (89.1%) | GreedySequenceAgent: 13/16 (81.2%)\n",
      "update 3/100 | loss/total:-0.0162 | loss/policy:-0.0081 | loss/value:0.0261 | loss/entropy:2.1121 | fps:5.9 |  [eval] overall 203/237 (85.7%) | PPOFrozenAgent: 104/115 (90.4%) | RandomAgent: 60/67 (89.6%) | GreedySequenceAgent: 29/34 (85.3%)\n",
      "update 4/100 | loss/total:-0.0207 | loss/policy:-0.0114 | loss/value:0.0227 | loss/entropy:2.0630 | fps:6.6 |  [eval] overall 267/314 (85.0%) | BlockingAgent: 37/41 (90.2%) | RandomAgent: 74/84 (88.1%) | PPOFrozenAgent: 121/140 (86.4%)\n",
      "update 5/100 | loss/total:-0.0120 | loss/policy:-0.0104 | loss/value:0.0382 | loss/entropy:2.0622 | fps:5.9 |  [eval] overall 319/378 (84.4%) | RandomAgent: 98/109 (89.9%) | PPOFrozenAgent: 149/171 (87.1%) | BlockingAgent: 37/44 (84.1%)\n",
      "update 6/100 | loss/total:-0.0165 | loss/policy:-0.0126 | loss/value:0.0335 | loss/entropy:2.0685 | fps:5.8 |  [eval] overall 368/441 (83.4%) | RandomAgent: 116/129 (89.9%) | PPOFrozenAgent: 175/206 (85.0%) | BlockingAgent: 42/51 (82.4%)\n",
      "update 7/100 | loss/total:-0.0187 | loss/policy:-0.0101 | loss/value:0.0229 | loss/entropy:2.0112 | fps:6.2 |  [eval] overall 398/484 (82.2%) | RandomAgent: 139/154 (90.3%) | PPOFrozenAgent: 179/214 (83.6%) | GreedySequenceAgent: 32/40 (80.0%)\n",
      "update 8/100 | loss/total:-0.0171 | loss/policy:-0.0099 | loss/value:0.0266 | loss/entropy:2.0567 | fps:6.1 |  [eval] overall 447/545 (82.0%) | RandomAgent: 142/157 (90.4%) | GreedySequenceAgent: 66/77 (85.7%) | PPOFrozenAgent: 191/229 (83.4%)\n",
      "update 9/100 | loss/total:-0.0212 | loss/policy:-0.0133 | loss/value:0.0231 | loss/entropy:1.9462 | fps:6.4 |  [eval] overall 483/595 (81.2%) | RandomAgent: 142/157 (90.4%) | PPOFrozenAgent: 227/275 (82.5%) | GreedySequenceAgent: 66/81 (81.5%)\n",
      "update 10/100 | loss/total:-0.0260 | loss/policy:-0.0139 | loss/value:0.0146 | loss/entropy:1.9475 | fps:6.7 |  [eval] overall 516/640 (80.6%) | RandomAgent: 142/159 (89.3%) | PPOFrozenAgent: 245/297 (82.5%) | GreedySequenceAgent: 80/97 (82.5%)\n",
      "update 11/100 | loss/total:-0.0203 | loss/policy:-0.0117 | loss/value:0.0216 | loss/entropy:1.9415 | fps:7.0 |  [eval] overall 634/771 (82.2%) | RandomAgent: 154/172 (89.5%) | GreedySequenceAgent: 104/121 (86.0%) | PPOFrozenAgent: 317/377 (84.1%)\n",
      "update 12/100 | loss/total:-0.0232 | loss/policy:-0.0127 | loss/value:0.0172 | loss/entropy:1.9087 | fps:7.2 |  [eval] overall 711/859 (82.8%) | RandomAgent: 164/184 (89.1%) | GreedySequenceAgent: 104/121 (86.0%) | PPOFrozenAgent: 376/438 (85.8%)\n",
      "update 13/100 | loss/total:-0.0167 | loss/policy:-0.0117 | loss/value:0.0280 | loss/entropy:1.9032 | fps:7.4 |  [eval] overall 756/916 (82.5%) | RandomAgent: 182/202 (90.1%) | PPOFrozenAgent: 391/460 (85.0%) | GreedySequenceAgent: 104/123 (84.6%)\n",
      "update 14/100 | loss/total:-0.0215 | loss/policy:-0.0132 | loss/value:0.0208 | loss/entropy:1.8716 | fps:7.1 |  [eval] overall 840/1012 (83.0%) | RandomAgent: 196/217 (90.3%) | GreedySequenceAgent: 125/146 (85.6%) | PPOFrozenAgent: 440/516 (85.3%)\n",
      "update 15/100 | loss/total:-0.0200 | loss/policy:-0.0095 | loss/value:0.0163 | loss/entropy:1.8622 | fps:6.8 |  [eval] overall 911/1096 (83.1%) | RandomAgent: 207/231 (89.6%) | PPOFrozenAgent: 489/572 (85.5%) | GreedySequenceAgent: 125/148 (84.5%)\n",
      "Unexpected exception formatting exception. Falling back to standard exception\n"
     ]
    },
    {
     "name": "stderr",
     "output_type": "stream",
     "text": [
      "Traceback (most recent call last):\n",
      "  File \"C:\\Users\\carlo\\anaconda3\\Lib\\site-packages\\IPython\\core\\interactiveshell.py\", line 3553, in run_code\n",
      "    exec(code_obj, self.user_global_ns, self.user_ns)\n",
      "  File \"C:\\Users\\carlo\\AppData\\Local\\Temp\\ipykernel_44064\\413218450.py\", line 69, in <module>\n",
      "    runpy.run_module(\"training.scripts.train\", run_name=\"__main__\", alter_sys=True)\n",
      "  File \"<frozen runpy>\", line 226, in run_module\n",
      "  File \"<frozen runpy>\", line 98, in _run_module_code\n",
      "  File \"<frozen runpy>\", line 88, in _run_code\n",
      "  File \"E:\\sequence_game_board\\sequence_board_game\\training\\scripts\\train.py\", line 358, in <module>\n",
      "    main()\n",
      "  File \"E:\\sequence_game_board\\sequence_board_game\\training\\scripts\\train.py\", line 232, in main\n",
      "    next_obs_i, next_info_i, rolled_terminal = pool.skipTo(policy, e, i)\n",
      "                                               ^^^^^^^^^^^^^^^^^^^^^^^^^\n",
      "  File \"E:\\sequence_game_board\\sequence_board_game\\training\\agents\\opponent_pool.py\", line 187, in skipTo\n",
      "    _, _, terminated, truncated, _ = env.step(int(action))\n",
      "                                     ^^^^^^^^^^^^^^^^^^^^^\n",
      "  File \"E:\\sequence_game_board\\sequence_board_game\\training\\envs\\sequence_env.py\", line 173, in step\n",
      "    feats_b = self._features_bundle(st_before, acting_team)     # one heavy scan\n",
      "              ^^^^^^^^^^^^^^^^^^^^^^^^^^^^^^^^^^^^^^^^^^^^^\n",
      "  File \"E:\\sequence_game_board\\sequence_board_game\\training\\envs\\sequence_env.py\", line 870, in _features_bundle\n",
      "    f = self._team_features_fast(st, t)\n",
      "        ^^^^^^^^^^^^^^^^^^^^^^^^^^^^^^^\n",
      "  File \"E:\\sequence_game_board\\sequence_board_game\\training\\envs\\sequence_env.py\", line 685, in _team_features_fast\n",
      "    sat_cnt = sat_w.sum(dim=1)                        # (W,)\n",
      "              ^^^^^^^^^^^^^^^^\n",
      "KeyboardInterrupt\n",
      "\n",
      "During handling of the above exception, another exception occurred:\n",
      "\n",
      "Traceback (most recent call last):\n",
      "  File \"C:\\Users\\carlo\\anaconda3\\Lib\\site-packages\\IPython\\core\\interactiveshell.py\", line 2144, in showtraceback\n",
      "    stb = self.InteractiveTB.structured_traceback(\n",
      "          ^^^^^^^^^^^^^^^^^^^^^^^^^^^^^^^^^^^^^^^^\n",
      "  File \"C:\\Users\\carlo\\anaconda3\\Lib\\site-packages\\IPython\\core\\ultratb.py\", line 1435, in structured_traceback\n",
      "    return FormattedTB.structured_traceback(\n",
      "           ^^^^^^^^^^^^^^^^^^^^^^^^^^^^^^^^^\n",
      "  File \"C:\\Users\\carlo\\anaconda3\\Lib\\site-packages\\IPython\\core\\ultratb.py\", line 1326, in structured_traceback\n",
      "    return VerboseTB.structured_traceback(\n",
      "           ^^^^^^^^^^^^^^^^^^^^^^^^^^^^^^^\n",
      "  File \"C:\\Users\\carlo\\anaconda3\\Lib\\site-packages\\IPython\\core\\ultratb.py\", line 1173, in structured_traceback\n",
      "    formatted_exception = self.format_exception_as_a_whole(etype, evalue, etb, number_of_lines_of_context,\n",
      "                          ^^^^^^^^^^^^^^^^^^^^^^^^^^^^^^^^^^^^^^^^^^^^^^^^^^^^^^^^^^^^^^^^^^^^^^^^^^^^^^^^\n",
      "  File \"C:\\Users\\carlo\\anaconda3\\Lib\\site-packages\\IPython\\core\\ultratb.py\", line 1088, in format_exception_as_a_whole\n",
      "    frames.append(self.format_record(record))\n",
      "                  ^^^^^^^^^^^^^^^^^^^^^^^^^^\n",
      "  File \"C:\\Users\\carlo\\anaconda3\\Lib\\site-packages\\IPython\\core\\ultratb.py\", line 970, in format_record\n",
      "    frame_info.lines, Colors, self.has_colors, lvals\n",
      "    ^^^^^^^^^^^^^^^^\n",
      "  File \"C:\\Users\\carlo\\anaconda3\\Lib\\site-packages\\IPython\\core\\ultratb.py\", line 792, in lines\n",
      "    return self._sd.lines\n",
      "           ^^^^^^^^^^^^^^\n",
      "  File \"C:\\Users\\carlo\\anaconda3\\Lib\\site-packages\\stack_data\\utils.py\", line 145, in cached_property_wrapper\n",
      "    value = obj.__dict__[self.func.__name__] = self.func(obj)\n",
      "                                               ^^^^^^^^^^^^^^\n",
      "  File \"C:\\Users\\carlo\\anaconda3\\Lib\\site-packages\\stack_data\\core.py\", line 698, in lines\n",
      "    pieces = self.included_pieces\n",
      "             ^^^^^^^^^^^^^^^^^^^^\n",
      "  File \"C:\\Users\\carlo\\anaconda3\\Lib\\site-packages\\stack_data\\utils.py\", line 145, in cached_property_wrapper\n",
      "    value = obj.__dict__[self.func.__name__] = self.func(obj)\n",
      "                                               ^^^^^^^^^^^^^^\n",
      "  File \"C:\\Users\\carlo\\anaconda3\\Lib\\site-packages\\stack_data\\core.py\", line 649, in included_pieces\n",
      "    pos = scope_pieces.index(self.executing_piece)\n",
      "                             ^^^^^^^^^^^^^^^^^^^^\n",
      "  File \"C:\\Users\\carlo\\anaconda3\\Lib\\site-packages\\stack_data\\utils.py\", line 145, in cached_property_wrapper\n",
      "    value = obj.__dict__[self.func.__name__] = self.func(obj)\n",
      "                                               ^^^^^^^^^^^^^^\n",
      "  File \"C:\\Users\\carlo\\anaconda3\\Lib\\site-packages\\stack_data\\core.py\", line 628, in executing_piece\n",
      "    return only(\n",
      "           ^^^^^\n",
      "  File \"C:\\Users\\carlo\\anaconda3\\Lib\\site-packages\\executing\\executing.py\", line 164, in only\n",
      "    raise NotOneValueFound('Expected one value, found 0')\n",
      "executing.executing.NotOneValueFound: Expected one value, found 0\n"
     ]
    }
   ],
   "execution_count": 5
  },
  {
   "metadata": {},
   "cell_type": "markdown",
   "source": "##EVAL",
   "id": "12f6081fa35b34f6"
  },
  {
   "metadata": {
    "ExecuteTime": {
     "end_time": "2025-08-30T05:46:01.796835Z",
     "start_time": "2025-08-30T05:45:16.488379Z"
    }
   },
   "cell_type": "code",
   "source": [
    "# ✅ Run training.scripts.eval in-process with a merged temp config (overrides applied reliably)\n",
    "\n",
    "import os, sys, runpy, importlib, contextlib, io, json, time\n",
    "\n",
    "CFG_PATH = r\"E:\\sequence_game_board\\sequence_board_game\\training\\configs\\full-tiny-smoke.json\"\n",
    "EVAL_OVERRIDE = {\n",
    "    # Example: you can override file paths or add agent kwargs here if needed\n",
    "    #\"evaluation.agent_kwargs.agents/training/ppo_lstm_agent.py.policy_path\": \"runs/smoke/full/policy_final.pt\",\n",
    "}\n",
    "\n",
    "def load_json(path):\n",
    "    with open(path, \"r\", encoding=\"utf-8\") as f:\n",
    "        return json.load(f)\n",
    "\n",
    "def apply_overrides(cfg: dict, overrides: dict) -> dict:\n",
    "    out = json.loads(json.dumps(cfg))\n",
    "    for k, v in overrides.items():\n",
    "        cur = out\n",
    "        parts = k.split(\".\")\n",
    "        for p in parts[:-1]:\n",
    "            if p not in cur or not isinstance(cur[p], dict):\n",
    "                cur[p] = {}\n",
    "            cur = cur[p]\n",
    "        cur[parts[-1]] = v\n",
    "    return out\n",
    "\n",
    "project_root = os.path.abspath(os.path.join(os.path.dirname(CFG_PATH), os.pardir, os.pardir))\n",
    "if project_root not in sys.path:\n",
    "    sys.path.insert(0, project_root)\n",
    "\n",
    "to_purge = [m for m in list(sys.modules) if m == \"training\" or m.startswith(\"training.\")]\n",
    "for m in to_purge:\n",
    "    sys.modules.pop(m, None)\n",
    "importlib.invalidate_caches()\n",
    "\n",
    "base_cfg = load_json(CFG_PATH)\n",
    "merged_cfg = apply_overrides(base_cfg, EVAL_OVERRIDE)\n",
    "\n",
    "cfg_dir = os.path.dirname(CFG_PATH)\n",
    "runtime_cfg_path = os.path.join(cfg_dir, f\"_eval_runtime_{int(time.time())}.json\")\n",
    "with open(runtime_cfg_path, \"w\", encoding=\"utf-8\") as f:\n",
    "    json.dump(merged_cfg, f, indent=2)\n",
    "print(\"Merged EVAL config:\", runtime_cfg_path)\n",
    "\n",
    "argv = [\"training.scripts.eval\", \"--config\", runtime_cfg_path, \"--episodes\", \"100\"]\n",
    "\n",
    "stdout_buf, stderr_buf = io.StringIO(), io.StringIO()\n",
    "print(\"Running eval in-process with argv:\", argv)\n",
    "\n",
    "with contextlib.redirect_stdout(stdout_buf), contextlib.redirect_stderr(stderr_buf):\n",
    "    old_argv = sys.argv\n",
    "    try:\n",
    "        sys.argv = argv\n",
    "        runpy.run_module(\"training.scripts.eval\", run_name=\"__main__\", alter_sys=True)\n",
    "        exit_code = 0\n",
    "    except SystemExit as se:\n",
    "        exit_code = int(getattr(se, \"code\", 0) or 0)\n",
    "    except Exception:\n",
    "        import traceback; traceback.print_exc()\n",
    "        exit_code = 1\n",
    "    finally:\n",
    "        sys.argv = old_argv\n",
    "\n",
    "print(\"--- STDOUT (tail) ---\\n\", stdout_buf.getvalue()[-8000:])\n",
    "print(\"--- STDERR (tail) ---\\n\", stderr_buf.getvalue()[-8000:])\n",
    "print(\"Exit code:\", exit_code)\n"
   ],
   "id": "91473a059632e7c",
   "outputs": [
    {
     "name": "stdout",
     "output_type": "stream",
     "text": [
      "Merged EVAL config: E:\\sequence_game_board\\sequence_board_game\\training\\configs\\_eval_runtime_1756532746.json\n",
      "Running eval in-process with argv: ['training.scripts.eval', '--config', 'E:\\\\sequence_game_board\\\\sequence_board_game\\\\training\\\\configs\\\\_eval_runtime_1756532746.json', '--episodes', '100']\n"
     ]
    },
    {
     "ename": "KeyboardInterrupt",
     "evalue": "",
     "output_type": "error",
     "traceback": [
      "\u001B[1;31m---------------------------------------------------------------------------\u001B[0m",
      "\u001B[1;31mKeyboardInterrupt\u001B[0m                         Traceback (most recent call last)",
      "Cell \u001B[1;32mIn[1], line 54\u001B[0m\n\u001B[0;32m     52\u001B[0m \u001B[38;5;28;01mtry\u001B[39;00m:\n\u001B[0;32m     53\u001B[0m     sys\u001B[38;5;241m.\u001B[39margv \u001B[38;5;241m=\u001B[39m argv\n\u001B[1;32m---> 54\u001B[0m     runpy\u001B[38;5;241m.\u001B[39mrun_module(\u001B[38;5;124m\"\u001B[39m\u001B[38;5;124mtraining.scripts.eval\u001B[39m\u001B[38;5;124m\"\u001B[39m, run_name\u001B[38;5;241m=\u001B[39m\u001B[38;5;124m\"\u001B[39m\u001B[38;5;124m__main__\u001B[39m\u001B[38;5;124m\"\u001B[39m, alter_sys\u001B[38;5;241m=\u001B[39m\u001B[38;5;28;01mTrue\u001B[39;00m)\n\u001B[0;32m     55\u001B[0m     exit_code \u001B[38;5;241m=\u001B[39m \u001B[38;5;241m0\u001B[39m\n\u001B[0;32m     56\u001B[0m \u001B[38;5;28;01mexcept\u001B[39;00m \u001B[38;5;167;01mSystemExit\u001B[39;00m \u001B[38;5;28;01mas\u001B[39;00m se:\n",
      "File \u001B[1;32m<frozen runpy>:226\u001B[0m, in \u001B[0;36mrun_module\u001B[1;34m(mod_name, init_globals, run_name, alter_sys)\u001B[0m\n",
      "File \u001B[1;32m<frozen runpy>:98\u001B[0m, in \u001B[0;36m_run_module_code\u001B[1;34m(code, init_globals, mod_name, mod_spec, pkg_name, script_name)\u001B[0m\n",
      "File \u001B[1;32m<frozen runpy>:88\u001B[0m, in \u001B[0;36m_run_code\u001B[1;34m(code, run_globals, init_globals, mod_name, mod_spec, pkg_name, script_name)\u001B[0m\n",
      "File \u001B[1;32mE:\\sequence_game_board\\sequence_board_game\\training\\scripts\\eval.py:132\u001B[0m\n\u001B[0;32m    129\u001B[0m         \u001B[38;5;28mprint\u001B[39m(line)\n\u001B[0;32m    131\u001B[0m \u001B[38;5;28;01mif\u001B[39;00m \u001B[38;5;18m__name__\u001B[39m \u001B[38;5;241m==\u001B[39m \u001B[38;5;124m\"\u001B[39m\u001B[38;5;124m__main__\u001B[39m\u001B[38;5;124m\"\u001B[39m:\n\u001B[1;32m--> 132\u001B[0m     main()\n",
      "File \u001B[1;32mE:\\sequence_game_board\\sequence_board_game\\training\\scripts\\eval.py:83\u001B[0m, in \u001B[0;36mmain\u001B[1;34m()\u001B[0m\n\u001B[0;32m     81\u001B[0m \u001B[38;5;28;01mfor\u001B[39;00m ep \u001B[38;5;129;01min\u001B[39;00m \u001B[38;5;28mrange\u001B[39m(args\u001B[38;5;241m.\u001B[39mepisodes):\n\u001B[0;32m     82\u001B[0m     \u001B[38;5;28;01mif\u001B[39;00m ep \u001B[38;5;241m%\u001B[39m \u001B[38;5;241m2\u001B[39m \u001B[38;5;241m==\u001B[39m \u001B[38;5;241m0\u001B[39m:\n\u001B[1;32m---> 83\u001B[0m         terminated, truncated, winners \u001B[38;5;241m=\u001B[39m play_match(env, eagent, bagent, seed\u001B[38;5;241m=\u001B[39mep)\n\u001B[0;32m     84\u001B[0m         e_won \u001B[38;5;241m=\u001B[39m (\u001B[38;5;241m0\u001B[39m \u001B[38;5;129;01min\u001B[39;00m winners)\n\u001B[0;32m     85\u001B[0m     \u001B[38;5;28;01melse\u001B[39;00m:\n",
      "File \u001B[1;32mE:\\sequence_game_board\\sequence_board_game\\training\\scripts\\eval.py:34\u001B[0m, in \u001B[0;36mplay_match\u001B[1;34m(env, a, b, seed)\u001B[0m\n\u001B[0;32m     32\u001B[0m \u001B[38;5;28;01mdef\u001B[39;00m \u001B[38;5;21mplay_match\u001B[39m(env: SequenceEnv, a: BaseAgent, b: BaseAgent, seed: Optional[\u001B[38;5;28mint\u001B[39m]) \u001B[38;5;241m-\u001B[39m\u001B[38;5;241m>\u001B[39m Tuple[\u001B[38;5;28mbool\u001B[39m, \u001B[38;5;28mbool\u001B[39m, List[\u001B[38;5;28mint\u001B[39m]]:\n\u001B[0;32m     33\u001B[0m     mgr \u001B[38;5;241m=\u001B[39m SelfPlayManager([a, b], env, max_steps\u001B[38;5;241m=\u001B[39m\u001B[38;5;28mint\u001B[39m(env\u001B[38;5;241m.\u001B[39m_step_limit))\n\u001B[1;32m---> 34\u001B[0m     out \u001B[38;5;241m=\u001B[39m mgr\u001B[38;5;241m.\u001B[39mplay_episode(seed\u001B[38;5;241m=\u001B[39mseed, render\u001B[38;5;241m=\u001B[39m\u001B[38;5;28;01mFalse\u001B[39;00m)\n\u001B[0;32m     35\u001B[0m     \u001B[38;5;28;01mreturn\u001B[39;00m out[\u001B[38;5;124m\"\u001B[39m\u001B[38;5;124mterminated\u001B[39m\u001B[38;5;124m\"\u001B[39m], out[\u001B[38;5;124m\"\u001B[39m\u001B[38;5;124mtruncated\u001B[39m\u001B[38;5;124m\"\u001B[39m], out\u001B[38;5;241m.\u001B[39mget(\u001B[38;5;124m\"\u001B[39m\u001B[38;5;124mwinners\u001B[39m\u001B[38;5;124m\"\u001B[39m, [])\n",
      "File \u001B[1;32mE:\\sequence_game_board\\sequence_board_game\\training\\agents\\selfplay_manager.py:48\u001B[0m, in \u001B[0;36mSelfPlayManager.play_episode\u001B[1;34m(self, seed, render)\u001B[0m\n\u001B[0;32m     45\u001B[0m agent \u001B[38;5;241m=\u001B[39m \u001B[38;5;28mself\u001B[39m\u001B[38;5;241m.\u001B[39magents[current_seat \u001B[38;5;241m%\u001B[39m \u001B[38;5;28mlen\u001B[39m(\u001B[38;5;28mself\u001B[39m\u001B[38;5;241m.\u001B[39magents)]\n\u001B[0;32m     46\u001B[0m action \u001B[38;5;241m=\u001B[39m agent\u001B[38;5;241m.\u001B[39mselect_action(legal_mask, ctx)\n\u001B[1;32m---> 48\u001B[0m obs, reward, terminated, truncated, info \u001B[38;5;241m=\u001B[39m \u001B[38;5;28mself\u001B[39m\u001B[38;5;241m.\u001B[39menv\u001B[38;5;241m.\u001B[39mstep(action)\n\u001B[0;32m     49\u001B[0m totals[current_seat] \u001B[38;5;241m=\u001B[39m totals\u001B[38;5;241m.\u001B[39mget(current_seat, \u001B[38;5;241m0.0\u001B[39m) \u001B[38;5;241m+\u001B[39m \u001B[38;5;28mfloat\u001B[39m(reward)\n\u001B[0;32m     50\u001B[0m steps \u001B[38;5;241m+\u001B[39m\u001B[38;5;241m=\u001B[39m \u001B[38;5;241m1\u001B[39m\n",
      "File \u001B[1;32mE:\\sequence_game_board\\sequence_board_game\\training\\envs\\sequence_env.py:340\u001B[0m, in \u001B[0;36mSequenceEnv.step\u001B[1;34m(self, action)\u001B[0m\n\u001B[0;32m    338\u001B[0m \u001B[38;5;28mself\u001B[39m\u001B[38;5;241m.\u001B[39mcurrent_player \u001B[38;5;241m=\u001B[39m \u001B[38;5;28mself\u001B[39m\u001B[38;5;241m.\u001B[39m_seat_index()\n\u001B[0;32m    339\u001B[0m next_legal \u001B[38;5;241m=\u001B[39m \u001B[38;5;28mself\u001B[39m\u001B[38;5;241m.\u001B[39m_legal_for(\u001B[38;5;28mself\u001B[39m\u001B[38;5;241m.\u001B[39mcurrent_player)\n\u001B[1;32m--> 340\u001B[0m obs \u001B[38;5;241m=\u001B[39m encode_board_state(\n\u001B[0;32m    341\u001B[0m     \u001B[38;5;28mself\u001B[39m\u001B[38;5;241m.\u001B[39m_state(), \u001B[38;5;28mself\u001B[39m\u001B[38;5;241m.\u001B[39mcurrent_player, \u001B[38;5;28mself\u001B[39m\u001B[38;5;241m.\u001B[39mconfig, legal\u001B[38;5;241m=\u001B[39mnext_legal, public\u001B[38;5;241m=\u001B[39m\u001B[38;5;28mself\u001B[39m\u001B[38;5;241m.\u001B[39m_public_summary()\n\u001B[0;32m    342\u001B[0m )\n\u001B[0;32m    344\u001B[0m \u001B[38;5;66;03m# Truncation via episode cap\u001B[39;00m\n\u001B[0;32m    345\u001B[0m \u001B[38;5;28mself\u001B[39m\u001B[38;5;241m.\u001B[39m_steps_elapsed \u001B[38;5;241m+\u001B[39m\u001B[38;5;241m=\u001B[39m \u001B[38;5;241m1\u001B[39m\n",
      "File \u001B[1;32mE:\\sequence_game_board\\sequence_board_game\\training\\encoders\\board_encoder.py:161\u001B[0m, in \u001B[0;36mencode_board_state\u001B[1;34m(game_state, current_player, config, legal, public)\u001B[0m\n\u001B[0;32m    158\u001B[0m                         plane[r, c] \u001B[38;5;241m=\u001B[39m probability_opponent_target_next(deck_counts, total_remaining, card)\n\u001B[0;32m    159\u001B[0m     channels\u001B[38;5;241m.\u001B[39mappend(plane)\n\u001B[1;32m--> 161\u001B[0m obs \u001B[38;5;241m=\u001B[39m np\u001B[38;5;241m.\u001B[39mstack(channels, axis\u001B[38;5;241m=\u001B[39m\u001B[38;5;241m0\u001B[39m)\u001B[38;5;241m.\u001B[39mastype(np\u001B[38;5;241m.\u001B[39mfloat32)  \u001B[38;5;66;03m# (C,10,10)\u001B[39;00m\n\u001B[0;32m    162\u001B[0m \u001B[38;5;28;01mreturn\u001B[39;00m obs\n",
      "File \u001B[1;32m~\\anaconda3\\Lib\\site-packages\\numpy\\core\\shape_base.py:456\u001B[0m, in \u001B[0;36mstack\u001B[1;34m(arrays, axis, out, dtype, casting)\u001B[0m\n\u001B[0;32m    454\u001B[0m sl \u001B[38;5;241m=\u001B[39m (\u001B[38;5;28mslice\u001B[39m(\u001B[38;5;28;01mNone\u001B[39;00m),) \u001B[38;5;241m*\u001B[39m axis \u001B[38;5;241m+\u001B[39m (_nx\u001B[38;5;241m.\u001B[39mnewaxis,)\n\u001B[0;32m    455\u001B[0m expanded_arrays \u001B[38;5;241m=\u001B[39m [arr[sl] \u001B[38;5;28;01mfor\u001B[39;00m arr \u001B[38;5;129;01min\u001B[39;00m arrays]\n\u001B[1;32m--> 456\u001B[0m \u001B[38;5;28;01mreturn\u001B[39;00m _nx\u001B[38;5;241m.\u001B[39mconcatenate(expanded_arrays, axis\u001B[38;5;241m=\u001B[39maxis, out\u001B[38;5;241m=\u001B[39mout,\n\u001B[0;32m    457\u001B[0m                        dtype\u001B[38;5;241m=\u001B[39mdtype, casting\u001B[38;5;241m=\u001B[39mcasting)\n",
      "\u001B[1;31mKeyboardInterrupt\u001B[0m: "
     ]
    }
   ],
   "execution_count": 1
  },
  {
   "metadata": {
    "ExecuteTime": {
     "end_time": "2025-08-25T20:59:59.121404Z",
     "start_time": "2025-08-25T20:59:59.006660Z"
    }
   },
   "cell_type": "code",
   "source": [
    "%load_ext tensorboard\n",
    "%tensorboard --logdir \"E:\\sequence_game_board\\sequence_board_game\\training\\runs\\smoke\\run\" --port 5907 --reload_interval 3"
   ],
   "id": "5dbd94e5bc9e49",
   "outputs": [
    {
     "name": "stdout",
     "output_type": "stream",
     "text": [
      "The tensorboard extension is already loaded. To reload it, use:\n",
      "  %reload_ext tensorboard\n"
     ]
    },
    {
     "data": {
      "text/plain": [
       "Reusing TensorBoard on port 5907 (pid 70272), started 21:18:08 ago. (Use '!kill 70272' to kill it.)"
      ]
     },
     "metadata": {},
     "output_type": "display_data"
    },
    {
     "data": {
      "text/plain": [
       "<IPython.core.display.HTML object>"
      ],
      "text/html": [
       "\n",
       "      <iframe id=\"tensorboard-frame-1c80317fa3b1799d\" width=\"100%\" height=\"800\" frameborder=\"0\">\n",
       "      </iframe>\n",
       "      <script>\n",
       "        (function() {\n",
       "          const frame = document.getElementById(\"tensorboard-frame-1c80317fa3b1799d\");\n",
       "          const url = new URL(\"/\", window.location);\n",
       "          const port = 5907;\n",
       "          if (port) {\n",
       "            url.port = port;\n",
       "          }\n",
       "          frame.src = url;\n",
       "        })();\n",
       "      </script>\n",
       "    "
      ]
     },
     "metadata": {},
     "output_type": "display_data"
    }
   ],
   "execution_count": 17
  },
  {
   "metadata": {
    "ExecuteTime": {
     "end_time": "2025-08-24T23:39:50.513848Z",
     "start_time": "2025-08-24T23:39:50.507477Z"
    }
   },
   "cell_type": "code",
   "source": [
    "import os, glob, pprint\n",
    "from tensorboard.backend.event_processing import event_accumulator as EA\n",
    "\n",
    "LOGDIR = r\"E:/sequence_game_board/sequence_board_game/runs/smoke/run/\"   # point at the parent, not the leaf\n",
    "events = glob.glob(os.path.join(LOGDIR, \"**\", \"events.out.tfevents.*\"), recursive=True)\n",
    "print(\"Found\", len(events), \"event file(s)\")\n",
    "pprint.pprint(events[-5:])\n",
    "\n",
    "if events:\n",
    "    ea = EA.EventAccumulator(os.path.dirname(events[-1]))  # load its containing directory\n",
    "    ea.Reload()\n",
    "    print(\"\\nTAGS:\", ea.Tags())        # should include 'scalars'\n",
    "    print(\"Scalar keys:\", list(ea.Scalars('loss/total')[:3]) if 'loss/total' in ea.Tags().get('scalars', []) else \"no loss/total\")\n",
    "    size = os.path.getsize(events[-1])\n",
    "    print(\"Event file size (bytes):\", size)"
   ],
   "id": "1929e3ef8e3ae446",
   "outputs": [
    {
     "name": "stdout",
     "output_type": "stream",
     "text": [
      "Found 0 event file(s)\n",
      "[]\n"
     ]
    }
   ],
   "execution_count": 7
  },
  {
   "metadata": {},
   "cell_type": "code",
   "outputs": [],
   "execution_count": null,
   "source": "",
   "id": "b6da1f3f90a33841"
  }
 ],
 "metadata": {
  "kernelspec": {
   "display_name": "Python 3",
   "language": "python",
   "name": "python3"
  },
  "language_info": {
   "codemirror_mode": {
    "name": "ipython",
    "version": 2
   },
   "file_extension": ".py",
   "mimetype": "text/x-python",
   "name": "python",
   "nbconvert_exporter": "python",
   "pygments_lexer": "ipython2",
   "version": "2.7.6"
  }
 },
 "nbformat": 4,
 "nbformat_minor": 5
}
