{
 "cells": [
  {
   "metadata": {},
   "cell_type": "markdown",
   "source": [
    "# Starter: Sequence RL — debug-friendly notebook (Anaconda base)\n",
    "\n",
    "Run the cells **in order** (1 → 10).\n",
    "This notebook:\n",
    "- uses your Anaconda base env (no venv),\n",
    "- verifies CUDA,\n",
    "- wires `sys.path` so `training/` imports,\n",
    "- runs the trainer **in-process** (easy to debug) or via subprocess,\n",
    "- starts TensorBoard,\n",
    "- evaluates a saved policy,\n",
    "- and gives quick unit-test & step-debug helpers.\n"
   ],
   "id": "c496235011770648"
  },
  {
   "metadata": {
    "ExecuteTime": {
     "end_time": "2025-08-25T18:37:23.667675Z",
     "start_time": "2025-08-25T18:37:19.745599Z"
    }
   },
   "cell_type": "code",
   "source": [
    "import os, sys, subprocess, textwrap\n",
    "\n",
    "print(\"Python:\", sys.executable)\n",
    "try:\n",
    "    import torch\n",
    "    print(\"PyTorch:\", torch.__version__)\n",
    "    print(\"CUDA available:\", torch.cuda.is_available())\n",
    "    print(\"CUDA version:\", getattr(torch.version, \"cuda\", None))\n",
    "    if torch.cuda.is_available():\n",
    "        print(\"CUDA device count:\", torch.cuda.device_count())\n",
    "        print(\"Device 0:\", torch.cuda.get_device_name(0))\n",
    "except Exception as e:\n",
    "    print(\"Torch import error:\", e)\n",
    "\n",
    "# Optional: show nvidia-smi (won't crash if missing)\n",
    "try:\n",
    "    print(\"\\n--- nvidia-smi ---\")\n",
    "    out = subprocess.run([\"nvidia-smi\"], capture_output=True, text=True)\n",
    "    print(out.stdout or out.stderr)\n",
    "except Exception as e:\n",
    "    print(\"nvidia-smi not available:\", e)\n"
   ],
   "id": "a41da3316c0ab59a",
   "outputs": [
    {
     "name": "stdout",
     "output_type": "stream",
     "text": [
      "Python: C:\\Users\\carlo\\anaconda3\\python.exe\n",
      "PyTorch: 2.2.1\n",
      "CUDA available: True\n",
      "CUDA version: 12.1\n",
      "CUDA device count: 1\n",
      "Device 0: NVIDIA GeForce RTX 3050 Laptop GPU\n",
      "\n",
      "--- nvidia-smi ---\n",
      "Mon Aug 25 12:37:23 2025       \n",
      "+-----------------------------------------------------------------------------------------+\n",
      "| NVIDIA-SMI 551.61                 Driver Version: 551.61         CUDA Version: 12.4     |\n",
      "|-----------------------------------------+------------------------+----------------------+\n",
      "| GPU  Name                     TCC/WDDM  | Bus-Id          Disp.A | Volatile Uncorr. ECC |\n",
      "| Fan  Temp   Perf          Pwr:Usage/Cap |           Memory-Usage | GPU-Util  Compute M. |\n",
      "|                                         |                        |               MIG M. |\n",
      "|=========================================+========================+======================|\n",
      "|   0  NVIDIA GeForce RTX 3050 ...  WDDM  |   00000000:01:00.0 Off |                  N/A |\n",
      "| N/A   58C    P8              4W /   25W |     273MiB /   4096MiB |      0%      Default |\n",
      "|                                         |                        |                  N/A |\n",
      "+-----------------------------------------+------------------------+----------------------+\n",
      "                                                                                         \n",
      "+-----------------------------------------------------------------------------------------+\n",
      "| Processes:                                                                              |\n",
      "|  GPU   GI   CI        PID   Type   Process name                              GPU Memory |\n",
      "|        ID   ID                                                               Usage      |\n",
      "|=========================================================================================|\n",
      "|    0   N/A  N/A      2716    C+G   ...ZWMJ2QHF7EXQJXRPE6GR5GOTQ\\DeepL.exe      N/A      |\n",
      "|    0   N/A  N/A      3144    C+G   ...m 2025.2.0.1\\jbr\\bin\\cef_server.exe      N/A      |\n",
      "|    0   N/A  N/A      3344    C+G   ...3.0_x64__cv1g1gvanyjgm\\WhatsApp.exe      N/A      |\n",
      "|    0   N/A  N/A      4580    C+G   ...by Google One\\1.9.0.6\\googleone.exe      N/A      |\n",
      "|    0   N/A  N/A      6820    C+G   ...n\\139.0.3405.111\\msedgewebview2.exe      N/A      |\n",
      "|    0   N/A  N/A     11476    C+G   ...les\\Microsoft OneDrive\\OneDrive.exe      N/A      |\n",
      "|    0   N/A  N/A     12928    C+G   C:\\Windows\\System32\\ShellHost.exe           N/A      |\n",
      "|    0   N/A  N/A     13228    C+G   ...cw5n1h2txyewy\\CrossDeviceResume.exe      N/A      |\n",
      "|    0   N/A  N/A     13400    C+G   ...nt.CBS_cw5n1h2txyewy\\SearchHost.exe      N/A      |\n",
      "|    0   N/A  N/A     14324    C+G   ...2txyewy\\StartMenuExperienceHost.exe      N/A      |\n",
      "|    0   N/A  N/A     15844    C+G   ...n\\139.0.3405.111\\msedgewebview2.exe      N/A      |\n",
      "|    0   N/A  N/A     20392    C+G   ...CBS_cw5n1h2txyewy\\TextInputHost.exe      N/A      |\n",
      "|    0   N/A  N/A     21512    C+G   ...ekyb3d8bbwe\\PhoneExperienceHost.exe      N/A      |\n",
      "|    0   N/A  N/A     23980    C+G   ...n\\139.0.3405.111\\msedgewebview2.exe      N/A      |\n",
      "+-----------------------------------------------------------------------------------------+\n",
      "\n"
     ]
    }
   ],
   "execution_count": 1
  },
  {
   "metadata": {
    "ExecuteTime": {
     "end_time": "2025-08-25T20:59:58.975079Z",
     "start_time": "2025-08-25T20:47:27.546615Z"
    }
   },
   "cell_type": "code",
   "source": [
    "# ✅ Run training.scripts.train in-process with a merged temp config (overrides applied reliably)\n",
    "\n",
    "import os, sys, runpy, importlib, contextlib, io, json, time, tempfile, shutil\n",
    "\n",
    "# --- configure your base config and overrides (dot-paths supported) ---\n",
    "CFG_PATH = r\"E:\\sequence_game_board\\sequence_board_game\\training\\configs\\full-tiny-smoke.json\"\n",
    "OVERRIDE = {\n",
    "    \"training.num_envs\": 1,\n",
    "    \"training.rollout_length\": 32,\n",
    "    \"training.total_updates\": 100,\n",
    "    \"training.minibatch_size\": 512,\n",
    "    \"logging.tensorboard\": True,\n",
    "}\n",
    "\n",
    "# --- helpers: load cfg, apply dot-path overrides, write temp cfg ---\n",
    "def load_json(path):\n",
    "    with open(path, \"r\", encoding=\"utf-8\") as f:\n",
    "        return json.load(f)\n",
    "\n",
    "def apply_overrides(cfg: dict, overrides: dict) -> dict:\n",
    "    out = json.loads(json.dumps(cfg))  # deep copy\n",
    "    for k, v in overrides.items():\n",
    "        cur = out\n",
    "        parts = k.split(\".\")\n",
    "        for p in parts[:-1]:\n",
    "            if p not in cur or not isinstance(cur[p], dict):\n",
    "                cur[p] = {}\n",
    "            cur = cur[p]\n",
    "        cur[parts[-1]] = v\n",
    "    return out\n",
    "\n",
    "# --- compute repo root (parent of 'training' folder) and ensure import path ---\n",
    "# CFG_PATH .../training/configs/xxx.json  -> go up two levels to repo root\n",
    "project_root = os.path.abspath(os.path.join(os.path.dirname(CFG_PATH), os.pardir, os.pardir))\n",
    "print(\"Project root:\", project_root)\n",
    "if project_root not in sys.path:\n",
    "    sys.path.insert(0, project_root)\n",
    "\n",
    "# --- purge any cached 'training' modules so edits are picked up ---\n",
    "to_purge = [m for m in list(sys.modules) if m == \"training\" or m.startswith(\"training.\")]\n",
    "for m in to_purge:\n",
    "    sys.modules.pop(m, None)\n",
    "importlib.invalidate_caches()\n",
    "\n",
    "# --- build merged temp config ---\n",
    "base_cfg = load_json(CFG_PATH)\n",
    "merged_cfg = apply_overrides(base_cfg, OVERRIDE)\n",
    "\n",
    "# write next to original (in configs/) with a timestamped name\n",
    "cfg_dir = os.path.dirname(CFG_PATH)\n",
    "runtime_cfg_path = os.path.join(cfg_dir, f\"_runtime_{int(time.time())}.json\")\n",
    "with open(runtime_cfg_path, \"w\", encoding=\"utf-8\") as f:\n",
    "    json.dump(merged_cfg, f, indent=2)\n",
    "print(\"Merged config written to:\", runtime_cfg_path)\n",
    "\n",
    "# --- optional: quick sanity peek ---\n",
    "print(\"total_updates =\", merged_cfg.get(\"training\", {}).get(\"total_updates\"))\n",
    "\n",
    "# --- import a couple of modules to confirm we’re loading the local package ---\n",
    "try:\n",
    "    import training\n",
    "    import training.engine.state as st\n",
    "    print(\"training package file:\", getattr(training, \"__file__\", \"<module>\"))\n",
    "    print(\"state.py path        :\", getattr(st, \"__file__\", \"<module>\"))\n",
    "except Exception as e:\n",
    "    print(\"WARNING: could not import training package before run:\", e)\n",
    "\n",
    "# --- run the train module in-process with the merged config (no --override) ---\n",
    "argv = [\n",
    "    \"training.scripts.train\",\n",
    "    \"--config\", runtime_cfg_path,\n",
    "]\n",
    "\n",
    "stdout_buf, stderr_buf = io.StringIO(), io.StringIO()\n",
    "print(\"Running in-process with argv:\", argv)\n",
    "\n",
    "with contextlib.redirect_stdout(stdout_buf), contextlib.redirect_stderr(stderr_buf):\n",
    "    old_argv = sys.argv\n",
    "    try:\n",
    "        sys.argv = argv\n",
    "        runpy.run_module(\"training.scripts.train\", run_name=\"__main__\", alter_sys=True)\n",
    "        exit_code = 0\n",
    "    except SystemExit as se:\n",
    "        exit_code = int(getattr(se, \"code\", 0) or 0)\n",
    "    except Exception as e:\n",
    "        exit_code = 1\n",
    "        # print the exception into the captured stderr so it shows below\n",
    "        import traceback; traceback.print_exc()\n",
    "    finally:\n",
    "        sys.argv = old_argv\n",
    "\n",
    "out, err = stdout_buf.getvalue(), stderr_buf.getvalue()\n",
    "print(\"--- STDOUT (tail) ---\\n\", out[-8000:])\n",
    "print(\"--- STDERR (tail) ---\\n\", err[-8000:])\n",
    "print(\"Exit code:\", exit_code)\n",
    "\n",
    "# (Optional) clean up the temp config file\n",
    "# If you’d like to keep it for reproducibility, comment this out.\n",
    "try:\n",
    "    os.remove(runtime_cfg_path)\n",
    "except Exception:\n",
    "    pass\n"
   ],
   "id": "8228756e6c62d23b",
   "outputs": [
    {
     "name": "stdout",
     "output_type": "stream",
     "text": [
      "Project root: E:\\sequence_game_board\\sequence_board_game\n",
      "Merged config written to: E:\\sequence_game_board\\sequence_board_game\\training\\configs\\_runtime_1756154847.json\n",
      "total_updates = 100\n",
      "training package file: E:\\sequence_game_board\\sequence_board_game\\training\\__init__.py\n",
      "state.py path        : E:\\sequence_game_board\\sequence_board_game\\training\\engine\\state.py\n",
      "Running in-process with argv: ['training.scripts.train', '--config', 'E:\\\\sequence_game_board\\\\sequence_board_game\\\\training\\\\configs\\\\_runtime_1756154847.json']\n",
      "--- STDOUT (tail) ---\n",
      " 007 | loss/value:596732127914.6666 | loss/entropy:2.5039 | fps:1.8\n",
      "update 40/100 | loss/total:1084711.7917 | loss/policy:-0.0072 | loss/value:2169423.5833 | loss/entropy:2.3832 | fps:1.8\n",
      "update 41/100 | loss/total:5134905507840.0000 | loss/policy:-0.0004 | loss/value:10269811015680.0000 | loss/entropy:2.2960 | fps:1.8\n",
      "update 42/100 | loss/total:3882172809216.0000 | loss/policy:-0.0071 | loss/value:7764345618432.0000 | loss/entropy:2.2644 | fps:1.9\n",
      "update 43/100 | loss/total:945227453781.3334 | loss/policy:0.0004 | loss/value:1890454907562.6667 | loss/entropy:2.5099 | fps:1.9\n",
      "update 44/100 | loss/total:6005320581120.0000 | loss/policy:-0.0009 | loss/value:12010641162240.0000 | loss/entropy:2.4199 | fps:2.0\n",
      "update 45/100 | loss/total:3086094933.3333 | loss/policy:0.0015 | loss/value:6172189866.6667 | loss/entropy:2.3779 | fps:2.0\n",
      "update 46/100 | loss/total:1624180785152.0000 | loss/policy:0.0029 | loss/value:3248361570304.0000 | loss/entropy:2.4094 | fps:2.1\n",
      "update 47/100 | loss/total:6235174032725.3330 | loss/policy:0.0008 | loss/value:12470348065450.6660 | loss/entropy:2.3956 | fps:2.1\n",
      "update 48/100 | loss/total:4794015831206571.0000 | loss/policy:0.0002 | loss/value:9588031662413142.0000 | loss/entropy:2.0244 | fps:2.1\n",
      "update 49/100 | loss/total:440152304298.6667 | loss/policy:0.0007 | loss/value:880304608597.3334 | loss/entropy:2.5370 | fps:2.2\n",
      "update 50/100 | loss/total:680596758069248.0000 | loss/policy:-0.0095 | loss/value:1361193516138496.0000 | loss/entropy:2.4831 | fps:2.2\n",
      "update 51/100 | loss/total:390819.5417 | loss/policy:-0.0041 | loss/value:781639.1458 | loss/entropy:2.4699 | fps:2.3\n",
      "update 52/100 | loss/total:2970193494016.0000 | loss/policy:0.0028 | loss/value:5940386988032.0000 | loss/entropy:2.5052 | fps:2.3\n",
      "update 53/100 | loss/total:15673572693.3333 | loss/policy:-0.0013 | loss/value:31347145386.6667 | loss/entropy:2.4229 | fps:2.4\n",
      "update 54/100 | loss/total:2475805114368.0000 | loss/policy:0.0007 | loss/value:4951610228736.0000 | loss/entropy:2.3490 | fps:2.4\n",
      "update 55/100 | loss/total:15267656021.3333 | loss/policy:0.0002 | loss/value:30535312042.6667 | loss/entropy:2.5453 | fps:2.4\n",
      "update 56/100 | loss/total:3597484862122.6665 | loss/policy:0.0004 | loss/value:7194969724245.3330 | loss/entropy:2.3832 | fps:2.5\n",
      "update 57/100 | loss/total:20868679860224.0000 | loss/policy:-0.0016 | loss/value:41737359720448.0000 | loss/entropy:2.3609 | fps:2.5\n",
      "update 58/100 | loss/total:92274488.0000 | loss/policy:-0.0010 | loss/value:184548976.0000 | loss/entropy:2.4507 | fps:2.6\n",
      "update 59/100 | loss/total:821132307114.6666 | loss/policy:0.0012 | loss/value:1642264614229.3333 | loss/entropy:2.4985 | fps:2.6\n",
      "update 60/100 | loss/total:44793973.3333 | loss/policy:-0.0036 | loss/value:89587946.6667 | loss/entropy:2.4290 | fps:2.6\n",
      "update 61/100 | loss/total:13182192757418.6660 | loss/policy:-0.0002 | loss/value:26364385514837.3320 | loss/entropy:2.3641 | fps:2.7\n",
      "update 62/100 | loss/total:127120341.3333 | loss/policy:-0.0037 | loss/value:254240682.6667 | loss/entropy:2.8214 | fps:2.7\n",
      "update 63/100 | loss/total:33445789040640.0000 | loss/policy:0.0004 | loss/value:66891578081280.0000 | loss/entropy:2.3440 | fps:2.8\n",
      "update 64/100 | loss/total:15628417.6667 | loss/policy:-0.0061 | loss/value:31256835.3333 | loss/entropy:2.6329 | fps:2.8\n",
      "update 65/100 | loss/total:478350398805.3333 | loss/policy:0.0000 | loss/value:956700797610.6666 | loss/entropy:2.5237 | fps:2.9\n",
      "update 66/100 | loss/total:247974996650.6667 | loss/policy:-0.0004 | loss/value:495949993301.3333 | loss/entropy:2.4011 | fps:2.9\n",
      "update 67/100 | loss/total:88466058641408.0000 | loss/policy:0.0003 | loss/value:176932117282816.0000 | loss/entropy:2.4136 | fps:2.9\n",
      "update 68/100 | loss/total:2657701.5000 | loss/policy:-0.0037 | loss/value:5315403.0000 | loss/entropy:2.3786 | fps:3.0\n",
      "update 69/100 | loss/total:234369509053781.3438 | loss/policy:0.0011 | loss/value:468739018107562.6875 | loss/entropy:2.4368 | fps:3.0\n",
      "update 70/100 | loss/total:18928569002.6667 | loss/policy:0.0002 | loss/value:37857138005.3333 | loss/entropy:2.6329 | fps:3.1\n",
      "update 71/100 | loss/total:32096822580565.3320 | loss/policy:0.0010 | loss/value:64193645161130.6641 | loss/entropy:2.4520 | fps:3.1\n",
      "update 72/100 | loss/total:11654839052970.6660 | loss/policy:-0.0002 | loss/value:23309678105941.3320 | loss/entropy:2.0549 | fps:3.1\n",
      "update 73/100 | loss/total:111862153216.0000 | loss/policy:-0.0000 | loss/value:223724306432.0000 | loss/entropy:2.4343 | fps:3.2\n",
      "update 74/100 | loss/total:1627796843178.6667 | loss/policy:-0.0006 | loss/value:3255593686357.3335 | loss/entropy:2.4072 | fps:3.2\n",
      "update 75/100 | loss/total:332224517461.3333 | loss/policy:-0.0002 | loss/value:664449034922.6666 | loss/entropy:2.2128 | fps:3.3\n",
      "update 76/100 | loss/total:12579596629.3333 | loss/policy:-0.0006 | loss/value:25159193258.6667 | loss/entropy:2.4372 | fps:3.3\n",
      "update 77/100 | loss/total:1061821.3750 | loss/policy:-0.0023 | loss/value:2123642.7500 | loss/entropy:2.5507 | fps:3.3\n",
      "update 78/100 | loss/total:533443062442.6667 | loss/policy:0.0053 | loss/value:1066886124885.3334 | loss/entropy:2.3724 | fps:3.4\n",
      "update 79/100 | loss/total:16697476339029.3340 | loss/policy:0.0005 | loss/value:33394952678058.6680 | loss/entropy:2.1644 | fps:3.4\n",
      "update 80/100 | loss/total:383712012970.6667 | loss/policy:-0.0024 | loss/value:767424025941.3334 | loss/entropy:2.6045 | fps:3.5\n",
      "update 81/100 | loss/total:333793248411648.0000 | loss/policy:-0.0017 | loss/value:667586496823296.0000 | loss/entropy:2.5122 | fps:3.5\n",
      "update 82/100 | loss/total:4225207107584.0000 | loss/policy:-0.0012 | loss/value:8450414215168.0000 | loss/entropy:2.5414 | fps:3.6\n",
      "update 83/100 | loss/total:1058599916797952.0000 | loss/policy:0.0012 | loss/value:2117199833595904.0000 | loss/entropy:2.5226 | fps:3.6\n",
      "update 84/100 | loss/total:1011573973.3333 | loss/policy:0.0020 | loss/value:2023147946.6667 | loss/entropy:2.4017 | fps:3.6\n",
      "update 85/100 | loss/total:75025478582272.0000 | loss/policy:0.0031 | loss/value:150050957164544.0000 | loss/entropy:2.5218 | fps:3.7\n",
      "update 86/100 | loss/total:5557210760697173.0000 | loss/policy:0.0005 | loss/value:11114421521394346.0000 | loss/entropy:2.0025 | fps:3.7\n",
      "update 87/100 | loss/total:12643809798826.6660 | loss/policy:0.0018 | loss/value:25287619597653.3320 | loss/entropy:2.4489 | fps:3.8\n",
      "update 88/100 | loss/total:68534382100480.0000 | loss/policy:0.0001 | loss/value:137068764200960.0000 | loss/entropy:2.4486 | fps:3.8\n",
      "update 89/100 | loss/total:243571556352.0000 | loss/policy:0.0002 | loss/value:487143112704.0000 | loss/entropy:2.4237 | fps:3.8\n",
      "update 90/100 | loss/total:43152523482453.3359 | loss/policy:0.0008 | loss/value:86305046964906.6719 | loss/entropy:2.3874 | fps:3.9\n",
      "update 91/100 | loss/total:1429717.9583 | loss/policy:-0.0133 | loss/value:2859435.9167 | loss/entropy:2.3243 | fps:3.9\n",
      "update 92/100 | loss/total:4012933294762.6665 | loss/policy:-0.0001 | loss/value:8025866589525.3330 | loss/entropy:2.2770 | fps:3.9\n",
      "update 93/100 | loss/total:66665928021.3333 | loss/policy:-0.0000 | loss/value:133331856042.6667 | loss/entropy:2.3480 | fps:4.0\n",
      "update 94/100 | loss/total:5457869362517.3330 | loss/policy:-0.0013 | loss/value:10915738725034.6660 | loss/entropy:2.3596 | fps:4.0\n",
      "update 95/100 | loss/total:1797362701129045.2500 | loss/policy:-0.0018 | loss/value:3594725402258090.5000 | loss/entropy:2.2435 | fps:4.1\n",
      "update 96/100 | loss/total:40005045059584.0000 | loss/policy:-0.0006 | loss/value:80010090119168.0000 | loss/entropy:2.4782 | fps:4.1\n",
      "update 97/100 | loss/total:74873216958464.0000 | loss/policy:0.0001 | loss/value:149746433916928.0000 | loss/entropy:2.5312 | fps:4.1\n",
      "update 98/100 | loss/total:19002958.6667 | loss/policy:-0.0030 | loss/value:38005917.3333 | loss/entropy:2.3821 | fps:4.2\n",
      "update 99/100 | loss/total:109278924898304.0000 | loss/policy:-0.0004 | loss/value:218557849796608.0000 | loss/entropy:2.3710 | fps:4.2\n",
      "update 100/100 | loss/total:6941885.8333 | loss/policy:-0.0028 | loss/value:13883771.6667 | loss/entropy:2.4380 | fps:4.3\n",
      "\n",
      "--- STDERR (tail) ---\n",
      " \n",
      "Exit code: 0\n"
     ]
    }
   ],
   "execution_count": 16
  },
  {
   "metadata": {
    "ExecuteTime": {
     "end_time": "2025-08-25T20:59:59.121404Z",
     "start_time": "2025-08-25T20:59:59.006660Z"
    }
   },
   "cell_type": "code",
   "source": [
    "%load_ext tensorboard\n",
    "%tensorboard --logdir \"E:\\sequence_game_board\\sequence_board_game\\training\\runs\\smoke\\run\" --port 5907 --reload_interval 3"
   ],
   "id": "5dbd94e5bc9e49",
   "outputs": [
    {
     "name": "stdout",
     "output_type": "stream",
     "text": [
      "The tensorboard extension is already loaded. To reload it, use:\n",
      "  %reload_ext tensorboard\n"
     ]
    },
    {
     "data": {
      "text/plain": [
       "Reusing TensorBoard on port 5907 (pid 70272), started 21:18:08 ago. (Use '!kill 70272' to kill it.)"
      ]
     },
     "metadata": {},
     "output_type": "display_data"
    },
    {
     "data": {
      "text/plain": [
       "<IPython.core.display.HTML object>"
      ],
      "text/html": [
       "\n",
       "      <iframe id=\"tensorboard-frame-1c80317fa3b1799d\" width=\"100%\" height=\"800\" frameborder=\"0\">\n",
       "      </iframe>\n",
       "      <script>\n",
       "        (function() {\n",
       "          const frame = document.getElementById(\"tensorboard-frame-1c80317fa3b1799d\");\n",
       "          const url = new URL(\"/\", window.location);\n",
       "          const port = 5907;\n",
       "          if (port) {\n",
       "            url.port = port;\n",
       "          }\n",
       "          frame.src = url;\n",
       "        })();\n",
       "      </script>\n",
       "    "
      ]
     },
     "metadata": {},
     "output_type": "display_data"
    }
   ],
   "execution_count": 17
  },
  {
   "metadata": {
    "ExecuteTime": {
     "end_time": "2025-08-24T23:39:50.513848Z",
     "start_time": "2025-08-24T23:39:50.507477Z"
    }
   },
   "cell_type": "code",
   "source": [
    "import os, glob, pprint\n",
    "from tensorboard.backend.event_processing import event_accumulator as EA\n",
    "\n",
    "LOGDIR = r\"E:/sequence_game_board/sequence_board_game/runs/smoke/run/\"   # point at the parent, not the leaf\n",
    "events = glob.glob(os.path.join(LOGDIR, \"**\", \"events.out.tfevents.*\"), recursive=True)\n",
    "print(\"Found\", len(events), \"event file(s)\")\n",
    "pprint.pprint(events[-5:])\n",
    "\n",
    "if events:\n",
    "    ea = EA.EventAccumulator(os.path.dirname(events[-1]))  # load its containing directory\n",
    "    ea.Reload()\n",
    "    print(\"\\nTAGS:\", ea.Tags())        # should include 'scalars'\n",
    "    print(\"Scalar keys:\", list(ea.Scalars('loss/total')[:3]) if 'loss/total' in ea.Tags().get('scalars', []) else \"no loss/total\")\n",
    "    size = os.path.getsize(events[-1])\n",
    "    print(\"Event file size (bytes):\", size)"
   ],
   "id": "1929e3ef8e3ae446",
   "outputs": [
    {
     "name": "stdout",
     "output_type": "stream",
     "text": [
      "Found 0 event file(s)\n",
      "[]\n"
     ]
    }
   ],
   "execution_count": 7
  },
  {
   "metadata": {},
   "cell_type": "code",
   "outputs": [],
   "execution_count": null,
   "source": "",
   "id": "b6da1f3f90a33841"
  }
 ],
 "metadata": {
  "kernelspec": {
   "display_name": "Python 3",
   "language": "python",
   "name": "python3"
  },
  "language_info": {
   "codemirror_mode": {
    "name": "ipython",
    "version": 2
   },
   "file_extension": ".py",
   "mimetype": "text/x-python",
   "name": "python",
   "nbconvert_exporter": "python",
   "pygments_lexer": "ipython2",
   "version": "2.7.6"
  }
 },
 "nbformat": 4,
 "nbformat_minor": 5
}
